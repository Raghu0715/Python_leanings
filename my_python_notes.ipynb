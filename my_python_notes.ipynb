{
  "nbformat": 4,
  "nbformat_minor": 0,
  "metadata": {
    "colab": {
      "provenance": [],
      "include_colab_link": true
    },
    "kernelspec": {
      "name": "python3",
      "display_name": "Python 3"
    },
    "language_info": {
      "name": "python"
    }
  },
  "cells": [
    {
      "cell_type": "markdown",
      "metadata": {
        "id": "view-in-github",
        "colab_type": "text"
      },
      "source": [
        "<a href=\"https://colab.research.google.com/github/Raghu0715/Python_leanings/blob/main/my_python_notes.ipynb\" target=\"_parent\"><img src=\"https://colab.research.google.com/assets/colab-badge.svg\" alt=\"Open In Colab\"/></a>"
      ]
    },
    {
      "cell_type": "markdown",
      "source": [
        "#Basics of Python"
      ],
      "metadata": {
        "id": "So_QCDBZDerx"
      }
    },
    {
      "cell_type": "code",
      "execution_count": null,
      "metadata": {
        "id": "kGIrJ-oZCw8S"
      },
      "outputs": [],
      "source": [
        "#what is python?\n",
        "''' 1.general purpose programming language\n",
        "    2. high- level prog language\n",
        "    3.object oriented programming language\n",
        "    4.dynamically typed programming language\n",
        "    5.interpretted programming language.'''\n",
        "#Wy we require comments?\n",
        "#for the better understanding purpose"
      ]
    },
    {
      "cell_type": "code",
      "source": [
        "#what statistically typed programming language?\n",
        "#in statistically typed programming language we need to define data type for varaibles.\n",
        "#ex:- java,c++"
      ],
      "metadata": {
        "id": "NdDDHgk6E3PJ"
      },
      "execution_count": null,
      "outputs": []
    },
    {
      "cell_type": "code",
      "source": [
        "#what is low- level programming language?\n",
        "#low- level programming language are machine friendly languages\n",
        "#In this the code is changing to binaray form fro :- [010101010]\n",
        "#More lines of code\n",
        "#c, c++"
      ],
      "metadata": {
        "id": "_wVOvCQdFUYi"
      },
      "execution_count": null,
      "outputs": []
    },
    {
      "cell_type": "code",
      "source": [
        "#what is High-level programming language?\n",
        "#Human friendly language\n",
        "#the codes are not changing in to binaray form\n",
        "#low lines of codes\n",
        "#it is like an english language"
      ],
      "metadata": {
        "id": "3SOpYnlhGC0b"
      },
      "execution_count": null,
      "outputs": []
    },
    {
      "cell_type": "code",
      "source": [
        "#Print \"Hello World\" in python?\n",
        "#i am using \"print()\" to display my output\n",
        "print(\"hello world!\")"
      ],
      "metadata": {
        "colab": {
          "base_uri": "https://localhost:8080/"
        },
        "id": "LgG5FQU7G3Dl",
        "outputId": "7fdf137e-61ae-4dc4-b840-389f2473d890"
      },
      "execution_count": null,
      "outputs": [
        {
          "output_type": "stream",
          "name": "stdout",
          "text": [
            "hello world!\n"
          ]
        }
      ]
    },
    {
      "cell_type": "markdown",
      "source": [
        "#Numerical Data Types"
      ],
      "metadata": {
        "id": "3B5VlQQwHv5K"
      }
    },
    {
      "cell_type": "code",
      "source": [
        "#what are all numerical data types?\n",
        "#There 3 types on numerical dtypes.\n",
        "#1.integer:- Awhole number either +ve or -ve without decimal point.\n",
        "print(10)\n",
        "print(5)\n",
        "print(-10)\n",
        "#find the data type of above integer?\n",
        "#i am using \"type()\" to find the data type\n",
        "print(type(10))\n",
        "print(type(5))\n",
        "print(type(-5))"
      ],
      "metadata": {
        "colab": {
          "base_uri": "https://localhost:8080/"
        },
        "id": "ig16dPijHVhi",
        "outputId": "359bbdf3-926c-4038-9830-eb2e2fb0c5c9"
      },
      "execution_count": null,
      "outputs": [
        {
          "output_type": "stream",
          "name": "stdout",
          "text": [
            "10\n",
            "5\n",
            "-10\n",
            "<class 'int'>\n",
            "<class 'int'>\n",
            "<class 'int'>\n"
          ]
        }
      ]
    },
    {
      "cell_type": "code",
      "source": [
        "#2.Float:- A whole number either +ve or -ve with decimal point\n",
        "print(2.0)\n",
        "print(5.326)\n",
        "#print type of above integer?\n",
        "print(type(2.0))\n",
        "print(type(-2.456))"
      ],
      "metadata": {
        "colab": {
          "base_uri": "https://localhost:8080/"
        },
        "id": "7njfZ4nWIo5o",
        "outputId": "b609b9f4-23b4-4a06-ea24-3e6a9a84fb09"
      },
      "execution_count": null,
      "outputs": [
        {
          "output_type": "stream",
          "name": "stdout",
          "text": [
            "2.0\n",
            "5.326\n",
            "<class 'float'>\n",
            "<class 'float'>\n"
          ]
        }
      ]
    },
    {
      "cell_type": "code",
      "source": [
        "#complex Number:-A real number with its imaginary part is know as complex number.\n",
        "print(2 +4j)\n",
        "print(type(2+4j))\n",
        "print(3+5j)\n",
        "print(type(3+5j))\n",
        "#what is \"j\"?\n",
        "#j ---> iota-->value of \"j\" is root (-1)"
      ],
      "metadata": {
        "colab": {
          "base_uri": "https://localhost:8080/"
        },
        "id": "blxX1fl-KBTs",
        "outputId": "1f119cea-596d-433a-85af-c62a1cfe202a"
      },
      "execution_count": null,
      "outputs": [
        {
          "output_type": "stream",
          "name": "stdout",
          "text": [
            "(2+4j)\n",
            "<class 'complex'>\n",
            "(3+5j)\n",
            "<class 'complex'>\n"
          ]
        }
      ]
    },
    {
      "cell_type": "markdown",
      "source": [
        "#Arthamatic operators"
      ],
      "metadata": {
        "id": "zUwKwIsjNACj"
      }
    },
    {
      "cell_type": "code",
      "source": [
        "#there are 7 arthamatic operators\n",
        "#1. addition---> +\n",
        "print(10 + 5)\n",
        "#2. substarction--> -\n",
        "print(10 - 5)\n",
        "#3. multiplication --->*\n",
        "print(10 * 5)\n",
        "#4. division---> /\n",
        "print(10 / 5)"
      ],
      "metadata": {
        "colab": {
          "base_uri": "https://localhost:8080/"
        },
        "id": "JXsSf239M76L",
        "outputId": "66b0851b-7cfc-43a4-9389-f7a2ffd6d199"
      },
      "execution_count": null,
      "outputs": [
        {
          "output_type": "stream",
          "name": "stdout",
          "text": [
            "15\n",
            "5\n",
            "50\n",
            "2.0\n"
          ]
        }
      ]
    },
    {
      "cell_type": "code",
      "source": [
        "#why we are getting default data type for divion is float?\n",
        "\"\"\"when your doing division some times if you want extract, exact\n",
        "co-efficient you may get decimal values instead defining the data type\n",
        "we are getting float data type\"\"\""
      ],
      "metadata": {
        "id": "Zp9y1FRNN4SG"
      },
      "execution_count": null,
      "outputs": []
    },
    {
      "cell_type": "code",
      "source": [
        "#Modulus:- ---> %--> reaminder of the the divison.\n",
        "print(10 % 5)\n",
        "print(type(10%5))"
      ],
      "metadata": {
        "colab": {
          "base_uri": "https://localhost:8080/"
        },
        "id": "BI00m4_MQBZo",
        "outputId": "c278b260-5127-48f8-878a-29e6062d604c"
      },
      "execution_count": null,
      "outputs": [
        {
          "output_type": "stream",
          "name": "stdout",
          "text": [
            "0\n",
            "<class 'int'>\n"
          ]
        }
      ]
    },
    {
      "cell_type": "code",
      "source": [
        "#exponential:- --> ** --> to the power off-->\n",
        "print(2 ** 3)\n",
        "print(10 ** 5)\n",
        "print(type(10 ** 5))"
      ],
      "metadata": {
        "colab": {
          "base_uri": "https://localhost:8080/"
        },
        "id": "uodlbIpqQoJh",
        "outputId": "381342e1-5702-4e61-ec36-15de44e933d4"
      },
      "execution_count": null,
      "outputs": [
        {
          "output_type": "stream",
          "name": "stdout",
          "text": [
            "8\n",
            "100000\n",
            "<class 'int'>\n"
          ]
        }
      ]
    },
    {
      "cell_type": "code",
      "source": [
        "#Floor Division:- --> //\n",
        "#it's a type of division where it ignores all the values after decimal in co-efficient\n",
        "print(10 / 3)\n",
        "print(10 // 3)"
      ],
      "metadata": {
        "colab": {
          "base_uri": "https://localhost:8080/"
        },
        "id": "Zq8a4W7fRL2Z",
        "outputId": "b24fb92d-21a8-471f-cffa-d362caeaf778"
      },
      "execution_count": null,
      "outputs": [
        {
          "output_type": "stream",
          "name": "stdout",
          "text": [
            "3.3333333333333335\n",
            "3\n"
          ]
        }
      ]
    },
    {
      "cell_type": "markdown",
      "source": [
        "#Round()"
      ],
      "metadata": {
        "id": "kuXf3lhFSEhW"
      }
    },
    {
      "cell_type": "code",
      "source": [
        "#what is round()?\n",
        "#rounding neares values\n",
        "\n",
        "print(round(10.234))\n",
        "#when the values are below 0.5 then it will give the base value\n",
        "print(2.536)\n",
        "print(round(2.536))"
      ],
      "metadata": {
        "id": "boIazvXiSHF4",
        "colab": {
          "base_uri": "https://localhost:8080/"
        },
        "outputId": "360fa460-c079-4fc4-a6d7-d5e28c615b7c"
      },
      "execution_count": 1,
      "outputs": [
        {
          "output_type": "stream",
          "name": "stdout",
          "text": [
            "10\n",
            "2.536\n",
            "3\n"
          ]
        }
      ]
    },
    {
      "cell_type": "code",
      "source": [
        "#Print specific decimal \"ndigits\" from the value 2.53476?\n",
        "#excepect output:- 2.53\n",
        "#use round()---> round(number,ndigits)\n",
        "print(round(2.56476,2))"
      ],
      "metadata": {
        "colab": {
          "base_uri": "https://localhost:8080/"
        },
        "id": "LRgsSAX1TIBo",
        "outputId": "360abdc9-feb6-4eaf-f13d-879dd70d4b99"
      },
      "execution_count": 2,
      "outputs": [
        {
          "output_type": "stream",
          "name": "stdout",
          "text": [
            "2.56\n"
          ]
        }
      ]
    },
    {
      "cell_type": "code",
      "source": [
        "#what is floor value and what is ceiling values?\n",
        "#floor value:- these are the values before the decimal numbers\n",
        "#ceiling values:- these are the upcoming values or nearest values"
      ],
      "metadata": {
        "id": "T_X7bTYaUIb7"
      },
      "execution_count": null,
      "outputs": []
    },
    {
      "cell_type": "markdown",
      "source": [
        "#Types of errors\n",
        "#variables.\n",
        "#input()\n",
        "#escape characters\n",
        "\n",
        "\n",
        "#12-072024"
      ],
      "metadata": {
        "id": "-E4VfupAUGUB"
      }
    },
    {
      "cell_type": "code",
      "source": [
        "#Types of errors>\n",
        "#there are two types of errors\n",
        "#1.syntax  error\n",
        "#2. logical errors"
      ],
      "metadata": {
        "id": "15GxM-PfMa8A"
      },
      "execution_count": null,
      "outputs": []
    },
    {
      "cell_type": "code",
      "source": [
        "#1.sytax error:- Breaking the rules of programming language can rise the syntax error\n",
        "print(2 ** 3)\n"
      ],
      "metadata": {
        "id": "UeHCwqMoMa4n",
        "colab": {
          "base_uri": "https://localhost:8080/"
        },
        "outputId": "e5c7387f-8a15-49d9-d8a7-836934801820"
      },
      "execution_count": 3,
      "outputs": [
        {
          "output_type": "stream",
          "name": "stdout",
          "text": [
            "8\n"
          ]
        }
      ]
    },
    {
      "cell_type": "code",
      "source": [
        "#Logical errors:- except syntaxt error all the errors comes under logical error\n",
        "#ex:- name error,recurrsive error, attribute error, indentation error.\n"
      ],
      "metadata": {
        "id": "qxTMvH3FMa0x"
      },
      "execution_count": null,
      "outputs": []
    },
    {
      "cell_type": "markdown",
      "source": [
        "**Variables**"
      ],
      "metadata": {
        "id": "v-1_QtRBP1EM"
      }
    },
    {
      "cell_type": "code",
      "source": [
        "#what is variables?\n",
        "#Varibles are containers  where we can store valuable information and reuse it.\n",
        "#what is purpose of varaibles?\n",
        "#is to reduce the memory size.\n",
        "#how to create the varibles?\n",
        "x = 40\n",
        "son_age = x/2\n",
        "print(son_age)\n",
        "#how we are going to access the varaibles?\n",
        "#print()\n"
      ],
      "metadata": {
        "colab": {
          "base_uri": "https://localhost:8080/"
        },
        "id": "drVlhYRBMaxI",
        "outputId": "d9000418-6c37-44fe-8e20-b1153bab86fb"
      },
      "execution_count": null,
      "outputs": [
        {
          "output_type": "stream",
          "name": "stdout",
          "text": [
            "20.0\n"
          ]
        }
      ]
    },
    {
      "cell_type": "code",
      "source": [
        "#Python is an interpreted prgrommaing language?\n",
        "#means it will execute the code line by line\n",
        "x = 10\n",
        "y = 5\n",
        "x = 60\n",
        "y = 30\n",
        "print(x + y)"
      ],
      "metadata": {
        "id": "KtHltKs5MatG"
      },
      "execution_count": null,
      "outputs": []
    },
    {
      "cell_type": "code",
      "source": [
        "#take two varibles of integeres and apply all the arthamatic operations?"
      ],
      "metadata": {
        "id": "J65n5O2nSuUD"
      },
      "execution_count": null,
      "outputs": []
    },
    {
      "cell_type": "code",
      "source": [
        "#python is a dynamically typed programming language?\n",
        "#we are not defining the dtype for varaibles python can read dtypes automatically\n",
        "x= 10\n",
        "print(type(x))\n",
        "y =\"hello world\"\n",
        "print(type(y))"
      ],
      "metadata": {
        "colab": {
          "base_uri": "https://localhost:8080/"
        },
        "id": "AFzEsdmLMapB",
        "outputId": "e8ed8db9-e718-4a64-9978-3b3c97709dc3"
      },
      "execution_count": null,
      "outputs": [
        {
          "output_type": "stream",
          "name": "stdout",
          "text": [
            "<class 'int'>\n",
            "<class 'str'>\n"
          ]
        }
      ]
    },
    {
      "cell_type": "code",
      "source": [
        "#Rules for creating varaibles.\n",
        "#1. always start creating the varibles with alphabets.\n",
        "'''a =\"hello world\"\n",
        "print(a)'''\n",
        "#2. don't start creating the varibles with numbers\n",
        "#  2 = \"hello wordl\"\n",
        "#  print(2)\n",
        "\"\"\"3. if you follow rule 1 and 2 the you can start creating varibles\n",
        "with alphabets inbetween you include numbers\"\"\n",
        "\n",
        "#4. dont give spaces in between the varaibles\n",
        "#5. don't use special characters. --->$,%,#,@\n",
        "#6. you start creating varaibles with (_) special character\n",
        "#7. always prefer varaibles in lowercase\n",
        "\n"
      ],
      "metadata": {
        "colab": {
          "base_uri": "https://localhost:8080/"
        },
        "id": "idPoX0h0Mak5",
        "outputId": "4440f97d-9801-4abc-d75e-bd463e41a406"
      },
      "execution_count": null,
      "outputs": [
        {
          "output_type": "stream",
          "name": "stdout",
          "text": [
            "hello world\n"
          ]
        }
      ]
    },
    {
      "cell_type": "code",
      "source": [
        "#python is a case sensitive langauage?\n",
        "x = \"hello word\"\n",
        "print(X)"
      ],
      "metadata": {
        "id": "gE8tyf7CMagx"
      },
      "execution_count": null,
      "outputs": []
    },
    {
      "cell_type": "code",
      "source": [
        "#1. Assign multiple values to the multiple varaibles and print in seprate line\n",
        "a,b,c = 10,20,30\n",
        "# print(a)\n",
        "# print(b)\n",
        "# print(c)\n",
        "#use \"sep=\\n\" operator to print values in separate line\n",
        "print(a,b,c, sep=\"\\n\")"
      ],
      "metadata": {
        "colab": {
          "base_uri": "https://localhost:8080/"
        },
        "id": "ZPz_Coe3MadX",
        "outputId": "82ff75fd-95fa-496f-9066-c020c98cc364"
      },
      "execution_count": null,
      "outputs": [
        {
          "output_type": "stream",
          "name": "stdout",
          "text": [
            "10\n",
            "20\n",
            "30\n"
          ]
        }
      ]
    },
    {
      "cell_type": "code",
      "source": [
        "#Assign same value to the multiple varibles and print in separate line?\n",
        "a = b = c = 10\n",
        "print(a,b,c,sep=\"\\n\")"
      ],
      "metadata": {
        "colab": {
          "base_uri": "https://localhost:8080/"
        },
        "id": "bIBUIzdSMaY_",
        "outputId": "9d9f2b27-a3ba-4667-8c2f-05673089102f"
      },
      "execution_count": null,
      "outputs": [
        {
          "output_type": "stream",
          "name": "stdout",
          "text": [
            "10\n",
            "10\n",
            "10\n"
          ]
        }
      ]
    },
    {
      "cell_type": "code",
      "source": [
        "a = 10\n",
        "b = 10\n",
        "c = 10\n",
        "print(a,b,c,sep=\"\\n\")"
      ],
      "metadata": {
        "colab": {
          "base_uri": "https://localhost:8080/"
        },
        "id": "j9lKzOyeMaU4",
        "outputId": "bc6dfe76-6c15-4dfc-c97f-602742876b87"
      },
      "execution_count": null,
      "outputs": [
        {
          "output_type": "stream",
          "name": "stdout",
          "text": [
            "10\n",
            "10\n",
            "10\n"
          ]
        }
      ]
    },
    {
      "cell_type": "code",
      "source": [
        "#Python Identifier is the name we give to identify a variable, function, class, module or other object."
      ],
      "metadata": {
        "id": "2_iG_z-lZOhC"
      },
      "execution_count": null,
      "outputs": []
    },
    {
      "cell_type": "markdown",
      "source": [
        "#Input()"
      ],
      "metadata": {
        "id": "HqtC3aSqYxT5"
      }
    },
    {
      "cell_type": "code",
      "source": [
        "#what is input()?\n",
        "#it intakes every information/data/value given by user\n",
        "#where we have to use this input()?\n",
        "#when user is giving multiple information/data/value to the same varaibles then we have to use input().\n",
        "#why we are using input()?(or) what is the purpose of using the input()?\n",
        "#to maintain the memory\n",
        "\n"
      ],
      "metadata": {
        "id": "apGJpkc2MaRE"
      },
      "execution_count": null,
      "outputs": []
    },
    {
      "cell_type": "code",
      "source": [
        "#How to create input() and how to access the input()\n",
        "#we are using input function along with a varaible name to create input()\n",
        "#we are using print() to access the input()"
      ],
      "metadata": {
        "id": "wB-YzmR9MaM5"
      },
      "execution_count": null,
      "outputs": []
    },
    {
      "cell_type": "code",
      "source": [
        "# give message inside the input function.\n",
        "a = input(\"enter your number \")\n",
        "print(a)\n",
        "print(type(a))\n",
        "#the default data type for input() is string.\n",
        "#why default data type for input() is string?\n",
        "'''user may give different types of information/data/value, The input function has\n",
        "built in such a way so it can take any kind of informartion\n",
        "so that's why default data type is string.'''"
      ],
      "metadata": {
        "colab": {
          "base_uri": "https://localhost:8080/"
        },
        "id": "wf8KfE12MaGe",
        "outputId": "0869c582-7205-44b5-9504-de3567a40d55"
      },
      "execution_count": null,
      "outputs": [
        {
          "output_type": "stream",
          "name": "stdout",
          "text": [
            "enter your number 10\n",
            "10\n",
            "<class 'str'>\n"
          ]
        }
      ]
    },
    {
      "cell_type": "markdown",
      "source": [
        "#Strings"
      ],
      "metadata": {
        "id": "1S8TLgDud4cJ"
      }
    },
    {
      "cell_type": "code",
      "source": [
        "#what is strings?\n",
        "#collection multiple characters that are written inside quotes.--(\" \") or(' ')\n",
        "#How can you denote or write a multiline string.?\n",
        "print(\"\"\"hi\n",
        "  iam using pyhton multiline string\n",
        "  this is my 1st execution \"\"\")"
      ],
      "metadata": {
        "colab": {
          "base_uri": "https://localhost:8080/"
        },
        "id": "rL9M7nxsMaDK",
        "outputId": "b49e767c-ad9a-42b5-de0d-bc3711a9ae39"
      },
      "execution_count": 4,
      "outputs": [
        {
          "output_type": "stream",
          "name": "stdout",
          "text": [
            "hi\n",
            "  iam using pyhton multiline string\n",
            "  this is my 1st execution \n"
          ]
        }
      ]
    },
    {
      "cell_type": "code",
      "source": [
        "#string is a collection mutliple characters, Each character in string can be accessible.\n",
        "#How can we access each character in a string?\n",
        "#we are using \"Indexing\" and \"slicing operator\" to access the specific characters in a string"
      ],
      "metadata": {
        "id": "IaXZtsJJMZ-w"
      },
      "execution_count": null,
      "outputs": []
    },
    {
      "cell_type": "code",
      "source": [
        "#indexing:- positional number of each character in a string\n",
        "#these indexing can be starts with zero\n",
        "#Slicing Operator: ---> [] --> it is use to break the string. also used to retrive substring from the main string."
      ],
      "metadata": {
        "id": "ZsYDgBhdMZ3E"
      },
      "execution_count": null,
      "outputs": []
    },
    {
      "cell_type": "code",
      "source": [
        "#what is substring?\n",
        "#is nothing but a part of main string"
      ],
      "metadata": {
        "id": "-tmI7PL2d9Rp"
      },
      "execution_count": null,
      "outputs": []
    },
    {
      "cell_type": "code",
      "source": [
        "x = \"Hello world!\"\n",
        "print(x)"
      ],
      "metadata": {
        "colab": {
          "base_uri": "https://localhost:8080/"
        },
        "id": "-1pLCPGud9OM",
        "outputId": "830f26f9-070b-4b91-8459-2a02b6d140a3"
      },
      "execution_count": null,
      "outputs": [
        {
          "output_type": "stream",
          "name": "stdout",
          "text": [
            "Hello world!\n"
          ]
        }
      ]
    },
    {
      "cell_type": "code",
      "source": [
        "#how to find how many indexs and how to find length of a string?\n",
        "x = \"Hello world!\"\n",
        "#to find the length of string we are using len function-->len()\n",
        "#length can be start from the 1\n",
        "print(len(x))\n",
        "#if you want to find the total index sunstract length - 1\n",
        "print(len(x)-1)"
      ],
      "metadata": {
        "colab": {
          "base_uri": "https://localhost:8080/"
        },
        "id": "uDMSKx64d9Lr",
        "outputId": "d7afcbca-ff79-4f56-a615-b1306874a556"
      },
      "execution_count": null,
      "outputs": [
        {
          "output_type": "stream",
          "name": "stdout",
          "text": [
            "12\n",
            "11\n"
          ]
        }
      ]
    },
    {
      "cell_type": "code",
      "source": [
        "#[start_index value#]\n",
        "x = \"Hello world!\"\n",
        "print(x[0])\n",
        "print(x[6])"
      ],
      "metadata": {
        "colab": {
          "base_uri": "https://localhost:8080/"
        },
        "id": "U-3O71Hhd9JB",
        "outputId": "6d816c5e-4769-4900-a2d6-da97cf4a641a"
      },
      "execution_count": null,
      "outputs": [
        {
          "output_type": "stream",
          "name": "stdout",
          "text": [
            "H\n",
            "w\n"
          ]
        }
      ]
    },
    {
      "cell_type": "code",
      "source": [
        "#if i want range of characters  for example print \"llo wo\" from above string?\n",
        "#[start_index value,end_indexvalue]\n",
        "print(x[2:8])  #end--> always ---n + 1\n",
        "#when your print range of character by using slicing operation the end character, if u want to display then add it with 1"
      ],
      "metadata": {
        "colab": {
          "base_uri": "https://localhost:8080/"
        },
        "id": "lBBaL9Rhd9GX",
        "outputId": "79fb88cb-a598-428a-bef7-353a55506f17"
      },
      "execution_count": null,
      "outputs": [
        {
          "output_type": "stream",
          "name": "stdout",
          "text": [
            "llo wo\n"
          ]
        }
      ]
    },
    {
      "cell_type": "code",
      "source": [
        "#print \"world\" from above string?\n",
        "print(x[6:11])"
      ],
      "metadata": {
        "colab": {
          "base_uri": "https://localhost:8080/"
        },
        "id": "DporhDQvd9D6",
        "outputId": "93f71d8d-93a8-4b66-e7b0-7a65cab0858e"
      },
      "execution_count": null,
      "outputs": [
        {
          "output_type": "stream",
          "name": "stdout",
          "text": [
            "world\n"
          ]
        }
      ]
    },
    {
      "cell_type": "markdown",
      "source": [
        "#13-07-2024\n",
        "\n",
        "[\"start:end:step\"] --slicing\n",
        "\n",
        "negative indexing\n",
        "\n",
        "string methods\n",
        "\n",
        "string formatting methods\n",
        "\n",
        "escape characters"
      ],
      "metadata": {
        "id": "KZ7vqRGYvF5O"
      }
    },
    {
      "cell_type": "code",
      "source": [
        "#print characters of the even position for the given string \"Hello world!\"\n",
        "#HL0WRD\n",
        "#[\"start:end:step\"]\n",
        "a = \"Hello world!\"\n",
        "print(a[0:12:2])"
      ],
      "metadata": {
        "colab": {
          "base_uri": "https://localhost:8080/"
        },
        "id": "3rOst-vQvJBj",
        "outputId": "70abb357-ecc1-4e1a-c6d8-f8139557155c"
      },
      "execution_count": 6,
      "outputs": [
        {
          "output_type": "stream",
          "name": "stdout",
          "text": [
            "Hlowrd\n"
          ]
        }
      ]
    },
    {
      "cell_type": "code",
      "source": [
        "#Prind odd index position characters?\n",
        "print(a[1:12:2])"
      ],
      "metadata": {
        "colab": {
          "base_uri": "https://localhost:8080/"
        },
        "id": "a47mt-NRwNjy",
        "outputId": "42ac8cc0-b8c6-4b3d-fe4c-c2c7d691097b"
      },
      "execution_count": null,
      "outputs": [
        {
          "output_type": "stream",
          "name": "stdout",
          "text": [
            "el ol!\n"
          ]
        }
      ]
    },
    {
      "cell_type": "markdown",
      "source": [
        "**#Defualt indexing**"
      ],
      "metadata": {
        "id": "QxRXlbIWwoBL"
      }
    },
    {
      "cell_type": "code",
      "source": [
        "#what is default indexing?\n",
        "\"\"\"during slicing operation if you won't specify  the index positional numbers then python can\n",
        "Take 0 as the start postion number and length measure as the end position number\"\"\""
      ],
      "metadata": {
        "colab": {
          "base_uri": "https://localhost:8080/"
        },
        "id": "JfgpZ8p-wfTL",
        "outputId": "18eaadce-141f-4c49-baa6-797562c01ace"
      },
      "execution_count": null,
      "outputs": [
        {
          "output_type": "stream",
          "name": "stdout",
          "text": [
            "Hello world!\n"
          ]
        }
      ]
    },
    {
      "cell_type": "code",
      "source": [
        "print(a[1::2]) #-->odd position characters\n",
        "print(a[::1]) #-->overall string\n",
        "print(a[::2]) #even position characters\n",
        "#default the step value can be 1"
      ],
      "metadata": {
        "colab": {
          "base_uri": "https://localhost:8080/"
        },
        "id": "310S_-wXxVMr",
        "outputId": "b22b7106-2872-4198-cdc3-7fd903390e0d"
      },
      "execution_count": 9,
      "outputs": [
        {
          "output_type": "stream",
          "name": "stdout",
          "text": [
            "el ol!\n",
            "Hello world!\n",
            "Hlowrd\n"
          ]
        }
      ]
    },
    {
      "cell_type": "markdown",
      "source": [
        "**Negative indexing**"
      ],
      "metadata": {
        "id": "sORsh19mx53z"
      }
    },
    {
      "cell_type": "code",
      "source": [
        "#what is -ve indexing?\n",
        "#indexing the postional characters from right to left(reverse direction) by using -ve numbers\n",
        "#-ve indexing can be starts with -1\n",
        "#By using the -ve indexing we can access the characters in reverse direction.\n",
        "s = \"Hello world!\"\n",
        "#[start]\n",
        "#print the w by using -ve indexing?\n",
        "print(s[-6])"
      ],
      "metadata": {
        "colab": {
          "base_uri": "https://localhost:8080/"
        },
        "id": "iJlmG_4Ox0y0",
        "outputId": "e20b6683-31cd-4a9a-ce88-6459bf3c32a2"
      },
      "execution_count": null,
      "outputs": [
        {
          "output_type": "stream",
          "name": "stdout",
          "text": [
            "w\n"
          ]
        }
      ]
    },
    {
      "cell_type": "code",
      "source": [
        "#Print range of characters in -ve indexing?\n",
        "#world\n",
        "print(a[-6:-1])"
      ],
      "metadata": {
        "colab": {
          "base_uri": "https://localhost:8080/"
        },
        "id": "P8CPUslox_Kv",
        "outputId": "55d28aa4-4016-40d4-f755-0f1e1054fe19"
      },
      "execution_count": null,
      "outputs": [
        {
          "output_type": "stream",
          "name": "stdout",
          "text": [
            "world\n"
          ]
        }
      ]
    },
    {
      "cell_type": "code",
      "source": [
        "#reverse a string \"hello word!\"\n",
        "#!drow olleh\n",
        "#[start:end:step]\n",
        "print(a[-1:-13:-1])"
      ],
      "metadata": {
        "colab": {
          "base_uri": "https://localhost:8080/"
        },
        "id": "VaYpk816z0vC",
        "outputId": "0930dc3d-d7e5-471a-ed2a-b27fce07a420"
      },
      "execution_count": null,
      "outputs": [
        {
          "output_type": "stream",
          "name": "stdout",
          "text": [
            "!dlrow olleH\n"
          ]
        }
      ]
    },
    {
      "cell_type": "code",
      "source": [
        "print(a[::-1])"
      ],
      "metadata": {
        "colab": {
          "base_uri": "https://localhost:8080/"
        },
        "id": "dRO3mJTZ02i-",
        "outputId": "2cf4d28e-f477-4548-dcc8-e04d816190cc"
      },
      "execution_count": null,
      "outputs": [
        {
          "output_type": "stream",
          "name": "stdout",
          "text": [
            "!dlrow olleH\n"
          ]
        }
      ]
    },
    {
      "cell_type": "code",
      "source": [
        "#check weather the given string is palindrome or not?\n",
        "a = input(\"enter your string: \")\n",
        "print(a[::-1])"
      ],
      "metadata": {
        "colab": {
          "base_uri": "https://localhost:8080/"
        },
        "id": "iv-c06Wu09XO",
        "outputId": "363b3e65-7a5f-41a8-b7b9-144f7c16de89"
      },
      "execution_count": null,
      "outputs": [
        {
          "output_type": "stream",
          "name": "stdout",
          "text": [
            "enter your string: madam\n",
            "madam\n"
          ]
        }
      ]
    },
    {
      "cell_type": "markdown",
      "source": [
        "**String methods**"
      ],
      "metadata": {
        "id": "86R-Pq3z1gT6"
      }
    },
    {
      "cell_type": "code",
      "source": [
        "#what are all methods applicable on given string?\n",
        "# use dir() it will tells you what are all the methods can be applicable for given string\n",
        "#what is dir()?\n",
        "#it returns what are all the methods applicable on given string\n",
        "\n",
        "a = \"hello world\"\n",
        "#to find methods use dir()\n",
        "print(dir(a))"
      ],
      "metadata": {
        "colab": {
          "base_uri": "https://localhost:8080/"
        },
        "id": "IK-ywaoo1npC",
        "outputId": "f78764e9-576b-459b-f639-534e89c558e7"
      },
      "execution_count": null,
      "outputs": [
        {
          "output_type": "stream",
          "name": "stdout",
          "text": [
            "['__add__', '__class__', '__contains__', '__delattr__', '__dir__', '__doc__', '__eq__', '__format__', '__ge__', '__getattribute__', '__getitem__', '__getnewargs__', '__gt__', '__hash__', '__init__', '__init_subclass__', '__iter__', '__le__', '__len__', '__lt__', '__mod__', '__mul__', '__ne__', '__new__', '__reduce__', '__reduce_ex__', '__repr__', '__rmod__', '__rmul__', '__setattr__', '__sizeof__', '__str__', '__subclasshook__', 'capitalize', 'casefold', 'center', 'count', 'encode', 'endswith', 'expandtabs', 'find', 'format', 'format_map', 'index', 'isalnum', 'isalpha', 'isascii', 'isdecimal', 'isdigit', 'isidentifier', 'islower', 'isnumeric', 'isprintable', 'isspace', 'istitle', 'isupper', 'join', 'ljust', 'lower', 'lstrip', 'maketrans', 'partition', 'removeprefix', 'removesuffix', 'replace', 'rfind', 'rindex', 'rjust', 'rpartition', 'rsplit', 'rstrip', 'split', 'splitlines', 'startswith', 'strip', 'swapcase', 'title', 'translate', 'upper', 'zfill']\n"
          ]
        }
      ]
    },
    {
      "cell_type": "code",
      "source": [
        "#important string methods\n",
        "#1. capitalize()-----> is the method that changes a string's first character to uppercase while converting the rest to lowercase.\n",
        "print(a.capitalize())  #-->o/p--> Hello wprld\n",
        "#2.upper()----->t converts all the lowercase characters in the string into uppercase characters.\n",
        "print(a.upper())  #-->o/p-->HELLO WORLD"
      ],
      "metadata": {
        "colab": {
          "base_uri": "https://localhost:8080/"
        },
        "id": "JBTn_J313Eos",
        "outputId": "8dbea3fe-f34d-4548-ace6-ae0ca15a95ce"
      },
      "execution_count": 10,
      "outputs": [
        {
          "output_type": "stream",
          "name": "stdout",
          "text": [
            "Hello world!\n",
            "HELLO WORLD!\n"
          ]
        }
      ]
    },
    {
      "cell_type": "code",
      "source": [
        "#3.lower()--->converting each uppercase character to lowercase.\n",
        "a = \"HELLO WORLD\"\n",
        "print(a.lower())"
      ],
      "metadata": {
        "colab": {
          "base_uri": "https://localhost:8080/"
        },
        "id": "etQ5ixJV3vlZ",
        "outputId": "19f24cd1-6c01-47cb-e105-d725264b3058"
      },
      "execution_count": null,
      "outputs": [
        {
          "output_type": "stream",
          "name": "stdout",
          "text": [
            "hello world\n"
          ]
        }
      ]
    },
    {
      "cell_type": "code",
      "source": [
        "\"\"\"title()-----> a string method that is used to convert the first character of each word in a string to uppercase,\n",
        "    while converting all other characters in each word to lowercase\"\"\"\n",
        "\n",
        "#swapcase----->Swaps cases, lower case becomes upper case and vice versa.\n",
        "\n",
        "#replace --->Returns a string where a specified value is replaced with a specified value\n",
        "\n",
        "#strip----->Returns a trimmed version of the string\n",
        "\n",
        "#rstrip----->Returns a right trim version of the string\n",
        "\n",
        "#lstrip----->Returns a left trim version of the string\n",
        "\n",
        "#Zfill----->Fills the string with a specified number of 0 values at the beginning\n"
      ],
      "metadata": {
        "id": "NJy99xkE32jV",
        "colab": {
          "base_uri": "https://localhost:8080/",
          "height": 53
        },
        "outputId": "ed5c335c-3416-42ad-a1b2-210ceb1174f1"
      },
      "execution_count": 12,
      "outputs": [
        {
          "output_type": "execute_result",
          "data": {
            "text/plain": [
              "'title()-----> a string method that is used to convert the first character of each word in a string to uppercase,\\n    while converting all other characters in each word to lowercase'"
            ],
            "application/vnd.google.colaboratory.intrinsic+json": {
              "type": "string"
            }
          },
          "metadata": {},
          "execution_count": 12
        }
      ]
    },
    {
      "cell_type": "code",
      "source": [
        "a = \"  helo world   \"\n",
        "print(a.strip())\n",
        "print(a.lstrip())\n",
        "print(a.rstrip())"
      ],
      "metadata": {
        "colab": {
          "base_uri": "https://localhost:8080/"
        },
        "id": "EBjYx3FR4EtB",
        "outputId": "1dcebaad-06b6-44c0-dddc-2b6f0db6218e"
      },
      "execution_count": null,
      "outputs": [
        {
          "output_type": "stream",
          "name": "stdout",
          "text": [
            "helo world\n",
            "helo world   \n",
            "  helo world\n"
          ]
        }
      ]
    },
    {
      "cell_type": "code",
      "source": [
        "a = \"hello good morning\"\n",
        "print(a.replace(\"morning\",\"afternoon\"))"
      ],
      "metadata": {
        "colab": {
          "base_uri": "https://localhost:8080/"
        },
        "id": "2TvymRE74qJE",
        "outputId": "b1ed423d-f9e8-4b68-ebbd-924eb18df002"
      },
      "execution_count": null,
      "outputs": [
        {
          "output_type": "stream",
          "name": "stdout",
          "text": [
            "hello good afternoon\n"
          ]
        }
      ]
    },
    {
      "cell_type": "code",
      "source": [
        "\n",
        "#find----->Searches the string for a specified value and returns the position of where it was found\n",
        "#zfill----->Fills the string with a specified number of 0 values at the beginning\n",
        "#isalpha----->Returns True if all characters in the string are in the alphabet\n",
        "#isalnum----->Returns True if all characters in the string are alphanumeric\n",
        "#replace hello world with  \"Hello UNIVERSE\"?"
      ],
      "metadata": {
        "id": "FMQOavhw433I"
      },
      "execution_count": null,
      "outputs": []
    },
    {
      "cell_type": "code",
      "source": [
        "a = \"hello i am practicing python daily 2 times\"\n",
        "print(a.isalpha())"
      ],
      "metadata": {
        "colab": {
          "base_uri": "https://localhost:8080/"
        },
        "id": "-_x2Vmt45MGF",
        "outputId": "8d8e71bb-028e-466f-8eb4-8da344d44b4a"
      },
      "execution_count": null,
      "outputs": [
        {
          "output_type": "stream",
          "name": "stdout",
          "text": [
            "False\n"
          ]
        }
      ]
    },
    {
      "cell_type": "code",
      "source": [
        "a = \"helloiam\"\n",
        "print(a.isalpha())"
      ],
      "metadata": {
        "colab": {
          "base_uri": "https://localhost:8080/"
        },
        "id": "UVgDhA_u5lHX",
        "outputId": "d6481f17-1e84-46a8-f759-4ef5daaadd46"
      },
      "execution_count": 14,
      "outputs": [
        {
          "output_type": "stream",
          "name": "stdout",
          "text": [
            "True\n"
          ]
        }
      ]
    },
    {
      "cell_type": "code",
      "source": [
        "b = \"123456\"\n",
        "print(b.isalnum())"
      ],
      "metadata": {
        "colab": {
          "base_uri": "https://localhost:8080/"
        },
        "id": "xIB3Pwcb504w",
        "outputId": "1b63c877-17fc-4b24-a67b-276cc1b642d6"
      },
      "execution_count": null,
      "outputs": [
        {
          "output_type": "stream",
          "name": "stdout",
          "text": [
            "False\n"
          ]
        }
      ]
    },
    {
      "cell_type": "code",
      "source": [
        "b = \"123456\"\n",
        "print(b.find(\"6\")) #it returns the indexing position of the given string"
      ],
      "metadata": {
        "colab": {
          "base_uri": "https://localhost:8080/"
        },
        "id": "maQZ1G3D6FVG",
        "outputId": "7085ab6b-3493-48ab-9b52-39bf04d49814"
      },
      "execution_count": null,
      "outputs": [
        {
          "output_type": "stream",
          "name": "stdout",
          "text": [
            "5\n"
          ]
        }
      ]
    },
    {
      "cell_type": "code",
      "source": [
        "c = \"hello word\"\n",
        "print(c.find(\"o\"))"
      ],
      "metadata": {
        "colab": {
          "base_uri": "https://localhost:8080/"
        },
        "id": "AjdgiM7u6Xy4",
        "outputId": "c4aaeb67-5347-4bf0-f63e-dd4983f98d02"
      },
      "execution_count": null,
      "outputs": [
        {
          "output_type": "stream",
          "name": "stdout",
          "text": [
            "4\n"
          ]
        }
      ]
    },
    {
      "cell_type": "markdown",
      "source": [
        "**String Formatting methods**"
      ],
      "metadata": {
        "id": "Jf-_HG0E6oaz"
      }
    },
    {
      "cell_type": "code",
      "source": [
        "#what is string formatting methods?\n",
        "#It is defined as formmating method can takes an argument and place it over a placeholder{}.\n",
        "#This can be three 3 types\n",
        "\n",
        "age = 10\n",
        "my = \"my age is\"\n",
        "print(my,age)"
      ],
      "metadata": {
        "colab": {
          "base_uri": "https://localhost:8080/"
        },
        "id": "CUv9Z9is6tQt",
        "outputId": "b0cd1ed1-c1c1-4a3e-e1f1-37d9f5edd326"
      },
      "execution_count": null,
      "outputs": [
        {
          "output_type": "stream",
          "name": "stdout",
          "text": [
            "my age is 10\n"
          ]
        }
      ]
    },
    {
      "cell_type": "code",
      "source": [
        "#string concatination\n",
        "a = \"Hello\"\n",
        "b = \"World\"\n",
        "print(a +\" \"+b)"
      ],
      "metadata": {
        "colab": {
          "base_uri": "https://localhost:8080/"
        },
        "id": "GuG_S3Ey9eP1",
        "outputId": "fa36f7ca-d803-48eb-a4d3-fdea1c46a965"
      },
      "execution_count": null,
      "outputs": [
        {
          "output_type": "stream",
          "name": "stdout",
          "text": [
            "Hello World\n"
          ]
        }
      ]
    },
    {
      "cell_type": "code",
      "source": [
        "#1st format method. print formatting method\n",
        "age = 10\n",
        "my_age = \"i am {} years old.\"\n",
        "print(my_age.format(10))"
      ],
      "metadata": {
        "colab": {
          "base_uri": "https://localhost:8080/"
        },
        "id": "QpKXyv5M-BqL",
        "outputId": "3cdec4b8-5ddf-477e-ee48-6d366c60d1b7"
      },
      "execution_count": null,
      "outputs": [
        {
          "output_type": "stream",
          "name": "stdout",
          "text": [
            "i am 10 years old.\n"
          ]
        }
      ]
    },
    {
      "cell_type": "code",
      "source": [
        "#2nd string format method using format at end of the string\n",
        "age = 10\n",
        "my_age = \"i am {} years old.\".format(10)\n",
        "print(my_age)"
      ],
      "metadata": {
        "colab": {
          "base_uri": "https://localhost:8080/"
        },
        "id": "YAngtIAI-dmV",
        "outputId": "075a4f4e-b917-44ae-ebda-cc255035c099"
      },
      "execution_count": null,
      "outputs": [
        {
          "output_type": "stream",
          "name": "stdout",
          "text": [
            "i am 10 years old.\n"
          ]
        }
      ]
    },
    {
      "cell_type": "code",
      "source": [
        "#3rd f'string format method':\n",
        "age =10\n",
        "my_age = f'i am {age} years old'\n",
        "print(my_age)"
      ],
      "metadata": {
        "colab": {
          "base_uri": "https://localhost:8080/"
        },
        "id": "YaZ9dxCi-vTQ",
        "outputId": "ff382a84-ab2c-49a6-8da0-57e5d75600e2"
      },
      "execution_count": null,
      "outputs": [
        {
          "output_type": "stream",
          "name": "stdout",
          "text": [
            "i am 10 years old\n"
          ]
        }
      ]
    },
    {
      "cell_type": "code",
      "source": [
        "item_name = \"Prodct A\"\n",
        "quantity = 10\n",
        "price_each = 99.9\n",
        "Notification = \"your oreder for {} has confirmed at an price of {}, and quantity of {}, placed sucessfully!\"\n",
        "#ex-o/p--> your oreder for product A has confirmed at an price of 999.0, placed sucessfully!\n",
        "\n",
        "print(Notification.format(item_name,price_each*quantity,quantity))"
      ],
      "metadata": {
        "colab": {
          "base_uri": "https://localhost:8080/"
        },
        "id": "Mn_Yv1_r_MB4",
        "outputId": "c23310f4-45b1-49f7-f366-3100c3ba81c6"
      },
      "execution_count": null,
      "outputs": [
        {
          "output_type": "stream",
          "name": "stdout",
          "text": [
            "your oreder for Prodct A has confirmed at an price of 999.0, and quantity of 10, placed sucessfully!\n"
          ]
        }
      ]
    },
    {
      "cell_type": "code",
      "source": [
        "item_name = \"Prodct A\"\n",
        "quantity = 10\n",
        "price_each = 99.9\n",
        "Notification = \"your oreder for {} has confirmed at an price of {}, and quantity of {}, placed sucessfully.\".format(item_name,price_each*quantity,quantity)\n",
        "print(Notification)"
      ],
      "metadata": {
        "colab": {
          "base_uri": "https://localhost:8080/"
        },
        "id": "PAzAkY2pA5e5",
        "outputId": "6dacb525-4b8e-4e73-ca79-abdaf1e99e56"
      },
      "execution_count": null,
      "outputs": [
        {
          "output_type": "stream",
          "name": "stdout",
          "text": [
            "your oreder for Prodct A has confirmed at an price of 999.0, and quantity of 10, placed sucessfully.\n"
          ]
        }
      ]
    },
    {
      "cell_type": "markdown",
      "source": [
        "**Escape Characters**"
      ],
      "metadata": {
        "id": "FwhCednpD54z"
      }
    },
    {
      "cell_type": "code",
      "source": [
        "#what is escape characters?\n",
        "#if you want to print illegal character in a string we have to use escape caracters\n",
        "#---> use backward slash \"\\\" before of illegal character next at the end also use \"\\\" before illegal character"
      ],
      "metadata": {
        "id": "53FtXc0JD82p"
      },
      "execution_count": null,
      "outputs": []
    },
    {
      "cell_type": "code",
      "source": [
        "a = \"Dwyan \\\"The Rock\\\" Johnson.\"\n",
        "print(a)\n"
      ],
      "metadata": {
        "colab": {
          "base_uri": "https://localhost:8080/"
        },
        "id": "u3kvMRadEkmH",
        "outputId": "627d5876-e493-436b-fbe7-b9d72f338089"
      },
      "execution_count": null,
      "outputs": [
        {
          "output_type": "stream",
          "name": "stdout",
          "text": [
            "Dwyan \"The Rock\" Johnson.\n"
          ]
        }
      ]
    },
    {
      "cell_type": "markdown",
      "source": [
        "#Loops"
      ],
      "metadata": {
        "id": "xoWr3cYcqI3F"
      }
    },
    {
      "cell_type": "code",
      "source": [
        "#why we use loops?\n",
        "#we use loops is to aviod duplicate codes\n",
        "\n",
        "#how many types of codes we hare having python\n",
        "#1. WET Code                       #Dry code\n",
        "#W-->Write                         #D-dont\n",
        "#E--> Everything                   #r--> repeat\n",
        "#T---> Twice                       #y---> yourself\n",
        "# Ex: C                              #ex :java, python"
      ],
      "metadata": {
        "id": "sCDRAZyvd9Bk"
      },
      "execution_count": null,
      "outputs": []
    },
    {
      "cell_type": "code",
      "source": [
        "#what are all the loops do we have in python?\n",
        "#1.while loop\n",
        "#2.for loop"
      ],
      "metadata": {
        "id": "J7VNVfl0d8_H"
      },
      "execution_count": null,
      "outputs": []
    },
    {
      "cell_type": "code",
      "source": [
        "#1.while loops:-It runs set of instructions as long as condition remains returs"
      ],
      "metadata": {
        "id": "YCKeOYs9d88m"
      },
      "execution_count": null,
      "outputs": []
    },
    {
      "cell_type": "code",
      "source": [
        "target = 5\n",
        "intial = 0\n",
        "while intial < target:\n",
        "  print(\"go up\")\n",
        "  print(\"go down\")\n",
        "  print(\"============rep completed=============\")\n",
        "  intial = intial + 1"
      ],
      "metadata": {
        "id": "CRi08H7Zd86B",
        "colab": {
          "base_uri": "https://localhost:8080/"
        },
        "outputId": "96b2ed37-2bb7-4c1e-fafc-f164cafaad11"
      },
      "execution_count": null,
      "outputs": [
        {
          "output_type": "stream",
          "name": "stdout",
          "text": [
            "go up\n",
            "go down\n",
            "============rep completed=============\n",
            "go up\n",
            "go down\n",
            "============rep completed=============\n",
            "go up\n",
            "go down\n",
            "============rep completed=============\n",
            "go up\n",
            "go down\n",
            "============rep completed=============\n",
            "go up\n",
            "go down\n",
            "============rep completed=============\n"
          ]
        }
      ]
    },
    {
      "cell_type": "code",
      "source": [
        "#write a program to run a lift?\n",
        "target = int(input(\"eneter your floor number: \"))\n",
        "ground_floor = 0\n",
        "while ground_floor <= target:\n",
        "  print(f'you have reached {ground_floor} floor')\n",
        "  ground_floor = ground_floor + 1"
      ],
      "metadata": {
        "id": "DB3vpYrod83p",
        "colab": {
          "base_uri": "https://localhost:8080/"
        },
        "outputId": "eac4b4de-02a0-448b-e2e6-2e4ab7bb2ddd"
      },
      "execution_count": null,
      "outputs": [
        {
          "output_type": "stream",
          "name": "stdout",
          "text": [
            "eneter your floor number: 4\n",
            "you have reached 0 floor\n",
            "you have reached 1 floor\n",
            "you have reached 2 floor\n",
            "you have reached 3 floor\n",
            "you have reached 4 floor\n"
          ]
        }
      ]
    },
    {
      "cell_type": "code",
      "source": [
        "#write program to print 10 digits using while loop in separate lines?\n",
        "a = int(input(\"enter the number\"))\n",
        "b = 0\n",
        "while b <= a:\n",
        "  print(b)\n",
        "  b = b + 1"
      ],
      "metadata": {
        "id": "SUL9LmuXd81a",
        "colab": {
          "base_uri": "https://localhost:8080/"
        },
        "outputId": "778ae43b-d11b-481e-9f55-3f135116dd79"
      },
      "execution_count": null,
      "outputs": [
        {
          "output_type": "stream",
          "name": "stdout",
          "text": [
            "enter the number10\n",
            "0\n",
            "1\n",
            "2\n",
            "3\n",
            "4\n",
            "5\n",
            "6\n",
            "7\n",
            "8\n",
            "9\n",
            "10\n"
          ]
        }
      ]
    },
    {
      "cell_type": "code",
      "source": [
        "#write program to print odd digits using while loop in separate lines up to 10?\n",
        "\n",
        "a = int(input(\"enter the number\"))\n",
        "b = 1\n",
        "while b <= a:\n",
        "  print(b)\n",
        "  b = b + 2"
      ],
      "metadata": {
        "id": "_Yz83XI3d8y_",
        "colab": {
          "base_uri": "https://localhost:8080/"
        },
        "outputId": "25ff5e9a-7f65-49d8-acc8-7ce8daaa5507"
      },
      "execution_count": null,
      "outputs": [
        {
          "output_type": "stream",
          "name": "stdout",
          "text": [
            "enter the number10\n",
            "1\n",
            "3\n",
            "5\n",
            "7\n",
            "9\n"
          ]
        }
      ]
    },
    {
      "cell_type": "code",
      "source": [
        "Number = [10,20,30,40,50]\n",
        "#output:- 20,40,60,80,100\n",
        "#write python program to print the multiples of 2\n",
        "print(Number*2)\n"
      ],
      "metadata": {
        "id": "n86oQL9Qd8ws",
        "colab": {
          "base_uri": "https://localhost:8080/"
        },
        "outputId": "dca6362d-526f-495e-b2fb-b9f3e7847418"
      },
      "execution_count": null,
      "outputs": [
        {
          "output_type": "stream",
          "name": "stdout",
          "text": [
            "[10, 20, 30, 40, 50, 10, 20, 30, 40, 50]\n"
          ]
        }
      ]
    },
    {
      "cell_type": "code",
      "source": [
        "#for loop:- it runs a set of instructions for each and every elemnt in a collection.\n",
        "Number = [10,20,30,40,50]\n",
        "for i in Number:\n",
        "  print(i*2)"
      ],
      "metadata": {
        "id": "YMIhxVW2d8uK"
      },
      "execution_count": null,
      "outputs": []
    },
    {
      "cell_type": "code",
      "source": [
        "#print \"hello world\" in separate lines by using loops?\n",
        "x = \"hello world!\"\n",
        "for letters in x:\n",
        "  print(letters)"
      ],
      "metadata": {
        "id": "nDU_VqAAd8rq"
      },
      "execution_count": null,
      "outputs": []
    },
    {
      "cell_type": "code",
      "source": [
        "#Is loops can run through each and every element in a collection.-->True"
      ],
      "metadata": {
        "id": "3nrX5ytpxWtM"
      },
      "execution_count": null,
      "outputs": []
    },
    {
      "cell_type": "code",
      "source": [
        "#write program to print \"hello world\" upto length of string?\n",
        "#if length is 11 print 11 times next if length is 15 print 15times?\n",
        "n = \"shahul\"\n",
        "for name in n:\n",
        "  print(n)"
      ],
      "metadata": {
        "id": "AQUDbpB_xWqI"
      },
      "execution_count": null,
      "outputs": []
    },
    {
      "cell_type": "code",
      "source": [
        "#Break Statement:-it terminates or breaks the loop once the condition satisfies\n",
        "Number = [10,20,30,40,50]\n",
        "#break the loop when iteration reaches to 30\n",
        "for i in Number:\n",
        "  print(i)\n",
        "  if i == 30:\n",
        "    break\n"
      ],
      "metadata": {
        "colab": {
          "base_uri": "https://localhost:8080/"
        },
        "id": "3HqxD-MOxWoJ",
        "outputId": "71266f22-e603-4e0a-9f7d-91a2e53a3952"
      },
      "execution_count": null,
      "outputs": [
        {
          "output_type": "stream",
          "name": "stdout",
          "text": [
            "10\n",
            "20\n",
            "30\n"
          ]
        }
      ]
    },
    {
      "cell_type": "code",
      "source": [
        "Number = [10,20,30,40,50]\n",
        "#break the loop when iteration reaches to 30\n",
        "for i in Number:\n",
        "  if i == 30:\n",
        "    break\n",
        "  print(i)"
      ],
      "metadata": {
        "colab": {
          "base_uri": "https://localhost:8080/"
        },
        "id": "lABgt_I7xWmE",
        "outputId": "57899b16-4fd0-4f7a-a9a2-2820d56b37e4"
      },
      "execution_count": null,
      "outputs": [
        {
          "output_type": "stream",
          "name": "stdout",
          "text": [
            "30\n"
          ]
        }
      ]
    },
    {
      "cell_type": "code",
      "source": [
        "#if i use the print() before break why i am getting considered condtion value?\n",
        "\"\"\"python is an  interpreted language means it will excecutes the code line by line,\n",
        "when i have written print() before break. before executing condition the iteration\n",
        "reaches to specific condition value so we can get that specific value along with the\n",
        "iterated values in the output\"\"\""
      ],
      "metadata": {
        "id": "Mfiw9LBQxWj2"
      },
      "execution_count": null,
      "outputs": []
    },
    {
      "cell_type": "code",
      "source": [
        "#continue:- It skips the particular iteration when the condition satisfies\n",
        "a = [10,20,30,40,50,60,70,80,90]\n",
        "for x in a:\n",
        "  if x == 40:\n",
        "    continue\n",
        "  print(x)"
      ],
      "metadata": {
        "id": "fmycHzGzxWhy"
      },
      "execution_count": null,
      "outputs": []
    },
    {
      "cell_type": "code",
      "source": [
        "#can we do multiple conitues. yes\n",
        "a = [10,20,30,40,50,60,70,80,90]\n",
        "for x in a:\n",
        "  if x in(30,50,70,80):\n",
        "    continue\n",
        "  print(x)"
      ],
      "metadata": {
        "id": "QSC01C6dxWfZ"
      },
      "execution_count": null,
      "outputs": []
    },
    {
      "cell_type": "markdown",
      "source": [
        "**Range**"
      ],
      "metadata": {
        "id": "q5bAxdf-5prw"
      }
    },
    {
      "cell_type": "code",
      "source": [
        "#write a program to create a range of numbers?\n",
        "#range(end)\n",
        "for i in range(11):\n",
        "  print(i)"
      ],
      "metadata": {
        "colab": {
          "base_uri": "https://localhost:8080/"
        },
        "id": "o0aBXkxcxWdJ",
        "outputId": "ab74abad-a583-4524-e185-209b6b835aee"
      },
      "execution_count": null,
      "outputs": [
        {
          "output_type": "stream",
          "name": "stdout",
          "text": [
            "0\n",
            "1\n",
            "2\n",
            "3\n",
            "4\n",
            "5\n",
            "6\n",
            "7\n",
            "8\n",
            "9\n",
            "10\n"
          ]
        }
      ]
    },
    {
      "cell_type": "code",
      "source": [
        "#print \"hello world\" 6 times:\n",
        "for i in range(6):\n",
        "  print(\"hello world!\")\n"
      ],
      "metadata": {
        "id": "w35dy1LH6RvX"
      },
      "execution_count": null,
      "outputs": []
    },
    {
      "cell_type": "code",
      "source": [
        "#range(start:end)\n",
        "#write a program to print range of values from 10 to 40?\n",
        "for i in range(10,41):\n",
        "  print(i)"
      ],
      "metadata": {
        "id": "a6Z1cLVC6Rr6"
      },
      "execution_count": null,
      "outputs": []
    },
    {
      "cell_type": "code",
      "source": [
        "#write a program to print even numbers from 1 to 20?\n",
        "#range(start,end,step)\n",
        "for i in range(2,21,2):\n",
        "  print(i)\n"
      ],
      "metadata": {
        "id": "I-GJUQ4v6Rpv"
      },
      "execution_count": null,
      "outputs": []
    },
    {
      "cell_type": "markdown",
      "source": [
        "#conditional statements."
      ],
      "metadata": {
        "id": "3Rq1Fm7h9Bed"
      }
    },
    {
      "cell_type": "code",
      "source": [
        "#what is comparision operators and what is relational operators?\n",
        "#Both are same\n",
        "#1. equals to --> ==\n",
        "#2. Not equals to ---> !=\n",
        "#3. greater than ---> >\n",
        "#4. less than ---> <\n",
        "#5. greater than equals to ---> >=\n",
        "#6. less than equals to --> <="
      ],
      "metadata": {
        "id": "FbLIppqa6Rnv"
      },
      "execution_count": null,
      "outputs": []
    },
    {
      "cell_type": "code",
      "source": [
        "print(10 == 10)\n"
      ],
      "metadata": {
        "colab": {
          "base_uri": "https://localhost:8080/"
        },
        "id": "WB3Gzb0-6Rlc",
        "outputId": "87cad96f-a3c6-42ac-c946-8669b8a9ae85"
      },
      "execution_count": null,
      "outputs": [
        {
          "output_type": "stream",
          "name": "stdout",
          "text": [
            "True\n"
          ]
        }
      ]
    },
    {
      "cell_type": "code",
      "source": [
        "#if -->elif---> else"
      ],
      "metadata": {
        "id": "zhqFj1Pp6RjW"
      },
      "execution_count": null,
      "outputs": []
    },
    {
      "cell_type": "code",
      "source": [
        "#print a number weater it is positive or negative or neutral.\n",
        "number = int(input(\"enter the number: \"))\n",
        "if number > 0:\n",
        "  print(\"+ve\")\n",
        "elif number == 0:\n",
        "  print(\"neutral\")\n",
        "else:\n",
        "  print(\"-ve\")"
      ],
      "metadata": {
        "colab": {
          "base_uri": "https://localhost:8080/"
        },
        "id": "Eb0HsT-C6RhC",
        "outputId": "a7bd37b7-5c46-40f9-aee2-5c328d8c48bf"
      },
      "execution_count": null,
      "outputs": [
        {
          "output_type": "stream",
          "name": "stdout",
          "text": [
            "enter the number: 90\n",
            "+ve\n"
          ]
        }
      ]
    },
    {
      "cell_type": "code",
      "source": [
        "#Logical operators\n",
        "#not:- it reverse your output\n",
        "print(not(10 == 10))"
      ],
      "metadata": {
        "colab": {
          "base_uri": "https://localhost:8080/"
        },
        "id": "6INjw_7l6Ren",
        "outputId": "10f16566-ec74-4db1-a8e1-2f612dd748ac"
      },
      "execution_count": null,
      "outputs": [
        {
          "output_type": "stream",
          "name": "stdout",
          "text": [
            "False\n"
          ]
        }
      ]
    },
    {
      "cell_type": "code",
      "source": [
        "a = 10\n",
        "b = 35\n",
        "c = 90\n",
        "#check the condition weather a is less than b and c\n",
        "#b is less than c\n",
        "if a < b and a < c and b < c:\n",
        "  print(\"all the cinditions satisfied\")\n",
        "else:\n",
        "  print(\"any one condition not satisfied\")"
      ],
      "metadata": {
        "colab": {
          "base_uri": "https://localhost:8080/"
        },
        "id": "jCGU7WTtxWa3",
        "outputId": "863c53f9-23ea-40ed-be43-8e4d549bbbad"
      },
      "execution_count": null,
      "outputs": [
        {
          "output_type": "stream",
          "name": "stdout",
          "text": [
            "all the cinditions satisfied\n"
          ]
        }
      ]
    },
    {
      "cell_type": "markdown",
      "source": [
        "#Collections"
      ],
      "metadata": {
        "id": "TcROO-QKDmKe"
      }
    },
    {
      "cell_type": "code",
      "source": [
        "#4 types of collection in python\n",
        "# 1. tuple\n",
        "# 2. list\n",
        "# 3. set\n",
        "# 4. dictionary\n"
      ],
      "metadata": {
        "id": "kOz0rQaxxWYj"
      },
      "execution_count": null,
      "outputs": []
    },
    {
      "cell_type": "code",
      "source": [
        "#1.List:- --> [] each element is separated with coma(,)\n",
        "#-> is ordered, changable(mutable),and it allows duplicates"
      ],
      "metadata": {
        "id": "ydB-6tLv-rSE"
      },
      "execution_count": null,
      "outputs": []
    },
    {
      "cell_type": "code",
      "source": [
        "#it allows duplicates\n",
        "l1 = [\"Apple\",\"Banana\",\"cherries\",\"kiwi\",\"watermelon\",\"lemon\",\"ornage\",\"ornage\",\"Apple\"]\n",
        "print(l1)\n",
        "print(type(l1))\n"
      ],
      "metadata": {
        "id": "YG0iGGd5-rOp",
        "colab": {
          "base_uri": "https://localhost:8080/"
        },
        "outputId": "974aab74-6dcd-4cc5-a948-457a2e2a0fc4"
      },
      "execution_count": null,
      "outputs": [
        {
          "output_type": "stream",
          "name": "stdout",
          "text": [
            "['Apple', 'Banana', 'cherries', 'kiwi', 'watermelon', 'lemon', 'ornage', 'ornage', 'Apple']\n",
            "<class 'list'>\n"
          ]
        }
      ]
    },
    {
      "cell_type": "code",
      "source": [
        "#write programe and prove me that list can allow the duplicates?"
      ],
      "metadata": {
        "id": "4eQiO_VR-rMc"
      },
      "execution_count": null,
      "outputs": []
    },
    {
      "cell_type": "code",
      "source": [
        "#list is ordered.\n",
        "\"\"\"ordered :- the elements or values in the list is havinga aspecific index position number.\n",
        "Based on this postion number we are accessing the data.\"\"\""
      ],
      "metadata": {
        "id": "P_DWjxWC-rKW"
      },
      "execution_count": null,
      "outputs": []
    },
    {
      "cell_type": "code",
      "source": [
        "#How we can access the data in list?\n",
        "#we can access it by using the slicing operator -->[] and index position numbers"
      ],
      "metadata": {
        "id": "cj0dDSl6-rIJ"
      },
      "execution_count": null,
      "outputs": []
    },
    {
      "cell_type": "code",
      "source": [
        "l2 = [\"Apple\",\"Banana\",\"cherries\",\"kiwi\",\"watermelon\",\"lemon\",\"ornage\"]\n",
        "#what is the length of this list?\n",
        "print(len(l2))"
      ],
      "metadata": {
        "id": "G9FGWnLS-rF3",
        "colab": {
          "base_uri": "https://localhost:8080/"
        },
        "outputId": "0180cfd7-446e-47d9-8cc2-f570ca901c6b"
      },
      "execution_count": null,
      "outputs": [
        {
          "output_type": "stream",
          "name": "stdout",
          "text": [
            "7\n"
          ]
        }
      ]
    },
    {
      "cell_type": "code",
      "source": [
        "#print or access apple from above list?\n",
        "print(l2[0])\n",
        "#print or access watermelon from above list?\n",
        "print(l2[4])\n"
      ],
      "metadata": {
        "colab": {
          "base_uri": "https://localhost:8080/"
        },
        "id": "J96d5tC9GPYm",
        "outputId": "f678b003-27fb-43ff-eae8-4bb4ae3fc444"
      },
      "execution_count": null,
      "outputs": [
        {
          "output_type": "stream",
          "name": "stdout",
          "text": [
            "Apple\n",
            "watermelon\n"
          ]
        }
      ]
    },
    {
      "cell_type": "code",
      "source": [
        "#print the range of items \"cherries\",\"kiwi\",\"watermelon\",\"lemon\"?\n",
        "#[start:end]\n",
        "print(l2[2:6])"
      ],
      "metadata": {
        "colab": {
          "base_uri": "https://localhost:8080/"
        },
        "id": "nCjHprXtGPVL",
        "outputId": "eab814e5-2d4c-4b7e-c11d-2736a6f9426f"
      },
      "execution_count": null,
      "outputs": [
        {
          "output_type": "stream",
          "name": "stdout",
          "text": [
            "['cherries', 'kiwi', 'watermelon', 'lemon']\n"
          ]
        }
      ]
    },
    {
      "cell_type": "code",
      "source": [
        "#Use the negative index and print the range of items?\n",
        "l2 = [\"Apple\",\"Banana\",\"cherries\",\"kiwi\",\"watermelon\",\"lemon\",\"ornage\"]\n",
        "print(l2[-3])"
      ],
      "metadata": {
        "colab": {
          "base_uri": "https://localhost:8080/"
        },
        "id": "0vYjvfCZGPSx",
        "outputId": "47a7ae63-d722-4f6b-a663-442f5597b5e0"
      },
      "execution_count": null,
      "outputs": [
        {
          "output_type": "stream",
          "name": "stdout",
          "text": [
            "watermelon\n"
          ]
        }
      ]
    },
    {
      "cell_type": "code",
      "source": [
        "#watermelon\",\"kiwi\",\"cherries\"\n",
        "print(l2[-3:-6:-2])"
      ],
      "metadata": {
        "colab": {
          "base_uri": "https://localhost:8080/"
        },
        "id": "uMay1ptqGPQb",
        "outputId": "a0ad95a5-7c1a-4c3a-b986-85d9e293e17e"
      },
      "execution_count": null,
      "outputs": [
        {
          "output_type": "stream",
          "name": "stdout",
          "text": [
            "['watermelon', 'cherries']\n"
          ]
        }
      ]
    },
    {
      "cell_type": "code",
      "source": [
        "#print the list of even position elements?\n",
        "print(l2[::2])"
      ],
      "metadata": {
        "colab": {
          "base_uri": "https://localhost:8080/"
        },
        "id": "rSuLDpigGPN5",
        "outputId": "481fdc17-b6ef-4527-87f2-faa1a511d0d0"
      },
      "execution_count": null,
      "outputs": [
        {
          "output_type": "stream",
          "name": "stdout",
          "text": [
            "['Apple', 'cherries', 'watermelon', 'ornage']\n"
          ]
        }
      ]
    },
    {
      "cell_type": "code",
      "source": [
        "#reverse the entire list?\n",
        "print(l2[::-1])\n"
      ],
      "metadata": {
        "colab": {
          "base_uri": "https://localhost:8080/"
        },
        "id": "5W6JVlV3GPLe",
        "outputId": "6e11495a-fd67-44dd-e484-587e2a283ebf"
      },
      "execution_count": null,
      "outputs": [
        {
          "output_type": "stream",
          "name": "stdout",
          "text": [
            "['ornage', 'lemon', 'watermelon', 'kiwi', 'cherries', 'Banana', 'Apple']\n"
          ]
        }
      ]
    },
    {
      "cell_type": "code",
      "source": [
        "#can we convert a list in to string.\n",
        "#write a program to convert the list into string.\n",
        "l3= ['Apple', 'cherries', 'watermelon', 'ornage']\n",
        "#using loops\n",
        "for x in l3:\n",
        "  print(x, end= \" \")  #end:- when you donot need output in each line then you use \"end=\"\"\n",
        "  #print(type(x))\n"
      ],
      "metadata": {
        "colab": {
          "base_uri": "https://localhost:8080/"
        },
        "id": "HZVq7A8IGPI8",
        "outputId": "627f0bf0-24ed-44f6-a588-ecce1029674e"
      },
      "execution_count": null,
      "outputs": [
        {
          "output_type": "stream",
          "name": "stdout",
          "text": [
            "Apple cherries watermelon ornage "
          ]
        }
      ]
    },
    {
      "cell_type": "code",
      "source": [
        "#list mutable or changable:-\n",
        "#How can you define a collection is mutable?\n",
        "#it can be defined in three ways\n",
        "#change-->replace--> A-->B\n",
        "#ADD the items in to the list\n",
        "# deleting the items in the list"
      ],
      "metadata": {
        "id": "sAuVPNkvGPGd"
      },
      "execution_count": null,
      "outputs": []
    },
    {
      "cell_type": "code",
      "source": [
        "#change-->replace--> items in list -->replacing in list can be done with the help of index position numbers.\n",
        "l4 = ['ornage', 'lemon', 'watermelon', 'kiwi', 'cherries', 'Banana', 'Apple']\n",
        "l4[3] = \"starwberry\"\n",
        "print(l4)\n"
      ],
      "metadata": {
        "colab": {
          "base_uri": "https://localhost:8080/"
        },
        "id": "F8WuZFp6GPEU",
        "outputId": "2652de00-3716-473a-a187-395c6d2b82f0"
      },
      "execution_count": null,
      "outputs": [
        {
          "output_type": "stream",
          "name": "stdout",
          "text": [
            "['ornage', 'lemon', 'watermelon', 'starwberry', 'cherries', 'Banana', 'Apple']\n"
          ]
        }
      ]
    },
    {
      "cell_type": "code",
      "source": [
        "#if i want to replace the range of items in the list\n",
        "l4[0:3] = \"mango\",\"pineapple\",\"grapes\"\n",
        "print(l4)"
      ],
      "metadata": {
        "colab": {
          "base_uri": "https://localhost:8080/"
        },
        "id": "R4l9vuN2GPB8",
        "outputId": "4fde4d1c-135e-4bcf-f668-31871b92539a"
      },
      "execution_count": null,
      "outputs": [
        {
          "output_type": "stream",
          "name": "stdout",
          "text": [
            "['mango', 'pineapple', 'grapes', 'starwberry', 'cherries', 'Banana', 'Apple']\n"
          ]
        }
      ]
    },
    {
      "cell_type": "code",
      "source": [
        "l4[0:4] = \"cashew\", \"dry grapes\"   #it is accepetable inlist your replace index postion with items irrespective of number of position\n",
        "print(l4)"
      ],
      "metadata": {
        "colab": {
          "base_uri": "https://localhost:8080/"
        },
        "id": "FKTwVMADGO_Z",
        "outputId": "d3a17c91-63ba-4171-aaa8-7d7b3cde2e2d"
      },
      "execution_count": null,
      "outputs": [
        {
          "output_type": "stream",
          "name": "stdout",
          "text": [
            "['cashew', 'dry grapes', 'cherries', 'Banana', 'Apple']\n"
          ]
        }
      ]
    },
    {
      "cell_type": "code",
      "source": [
        "#ADD the items in to the list\n",
        "#appen() by default it will add the items in the list in end position\n",
        "l5= ['Apple', 'cherries', 'watermelon', 'ornage']\n",
        "l5.append(\"muskmelon\")\n",
        "print(l5)\n"
      ],
      "metadata": {
        "colab": {
          "base_uri": "https://localhost:8080/"
        },
        "id": "JppWUKXHGO9A",
        "outputId": "4b6cb3dc-35c0-41a0-e91e-98ab1b11432d"
      },
      "execution_count": null,
      "outputs": [
        {
          "output_type": "stream",
          "name": "stdout",
          "text": [
            "['Apple', 'cherries', 'watermelon', 'ornage', 'muskmelon']\n"
          ]
        }
      ]
    },
    {
      "cell_type": "code",
      "source": [
        "#if i want to add the element in particular index position.\n",
        "#insert(index,'new item name')\n",
        "l5.insert(3,'lemon') #note you cannot insert multiple values into the list\n",
        "print(l5)"
      ],
      "metadata": {
        "colab": {
          "base_uri": "https://localhost:8080/"
        },
        "id": "rnrHhYT2M452",
        "outputId": "c5ca9826-2b20-4687-afdd-19dfa0e5c024"
      },
      "execution_count": null,
      "outputs": [
        {
          "output_type": "stream",
          "name": "stdout",
          "text": [
            "['Apple', 'cherries', 'lemon', 'lemon', 'watermelon', 'ornage', 'muskmelon']\n"
          ]
        }
      ]
    },
    {
      "cell_type": "code",
      "source": [
        "#extend:-\n",
        "l = [10,20,30,40]\n",
        "l2= ['Apple', 'cherries', 'lemon', 'lemon', 'watermelon', 'ornage', 'muskmelon']\n",
        "l2.append(l)\n",
        "#here when you give the 1st collection name the another collection elements is going to add in 1st collection\n",
        "print(l2)\n",
        "print(len(l2))"
      ],
      "metadata": {
        "id": "_7cbEE9EM426",
        "colab": {
          "base_uri": "https://localhost:8080/"
        },
        "outputId": "178483ca-5da9-4b1c-9ab5-64cf7734b5f8"
      },
      "execution_count": null,
      "outputs": [
        {
          "output_type": "stream",
          "name": "stdout",
          "text": [
            "['Apple', 'cherries', 'lemon', 'lemon', 'watermelon', 'ornage', 'muskmelon', [10, 20, 30, 40]]\n",
            "8\n"
          ]
        }
      ]
    },
    {
      "cell_type": "code",
      "source": [
        "l = [10,20,30,40]\n",
        "l2= ['Apple', 'cherries', 'lemon', 'lemon']\n",
        "l2.extend(l)\n",
        "print(l2)"
      ],
      "metadata": {
        "colab": {
          "base_uri": "https://localhost:8080/"
        },
        "id": "t9NGHjaJTbBk",
        "outputId": "185c56b8-1645-4c07-ea37-21a628a53d0b"
      },
      "execution_count": null,
      "outputs": [
        {
          "output_type": "stream",
          "name": "stdout",
          "text": [
            "['Apple', 'cherries', 'lemon', 'lemon', 10, 20, 30, 40]\n"
          ]
        }
      ]
    },
    {
      "cell_type": "code",
      "source": [
        "l3= ['Apple', 'cherries', 'lemon', 'lemon'] #-->apple, cherries, [10,20],lemon,lemon\n",
        "l4 = [10,20]\n",
        "#write a progrm to add the elements to l3 at 2nd index position?\n",
        "l3.insert(2,l4)\n",
        "print(l3)\n"
      ],
      "metadata": {
        "colab": {
          "base_uri": "https://localhost:8080/"
        },
        "id": "KUdNaSnAUTIk",
        "outputId": "a6b411dd-c1a3-4f61-f99b-8024b47a0fc6"
      },
      "execution_count": null,
      "outputs": [
        {
          "output_type": "stream",
          "name": "stdout",
          "text": [
            "['Apple', 'cherries', [10, 20], 'lemon', 'lemon']\n"
          ]
        }
      ]
    },
    {
      "cell_type": "markdown",
      "source": [
        "**delete or remove**"
      ],
      "metadata": {
        "id": "UAbbK--vVYdl"
      }
    },
    {
      "cell_type": "code",
      "source": [
        "#delete\n",
        "l5 = ['Apple', 'cherries', [10, 20], 'lemon', 'lemon']\n",
        "#delete cherries\n",
        "l5.remove(\"cherries\")\n",
        "print(l5)"
      ],
      "metadata": {
        "colab": {
          "base_uri": "https://localhost:8080/"
        },
        "id": "RfEC9aE3UWbU",
        "outputId": "c176e613-0ebf-4c8c-e7d1-9e48e128ad2e"
      },
      "execution_count": null,
      "outputs": [
        {
          "output_type": "stream",
          "name": "stdout",
          "text": [
            "['Apple', [10, 20], 'lemon', 'lemon']\n"
          ]
        }
      ]
    },
    {
      "cell_type": "code",
      "source": [
        "#pop\n",
        "l5.pop()"
      ],
      "metadata": {
        "colab": {
          "base_uri": "https://localhost:8080/",
          "height": 35
        },
        "id": "S2C9HYDSUWX_",
        "outputId": "fcd87cfe-20d3-49fd-89cb-f4d41aa40d98"
      },
      "execution_count": null,
      "outputs": [
        {
          "output_type": "execute_result",
          "data": {
            "text/plain": [
              "'lemon'"
            ],
            "application/vnd.google.colaboratory.intrinsic+json": {
              "type": "string"
            }
          },
          "metadata": {},
          "execution_count": 11
        }
      ]
    },
    {
      "cell_type": "code",
      "source": [
        "print(l5)"
      ],
      "metadata": {
        "colab": {
          "base_uri": "https://localhost:8080/"
        },
        "id": "3YuoQae0UWVz",
        "outputId": "c698bb70-9eda-4fff-a37b-0f8b233fe576"
      },
      "execution_count": null,
      "outputs": [
        {
          "output_type": "stream",
          "name": "stdout",
          "text": [
            "['Apple', [10, 20], 'lemon']\n"
          ]
        }
      ]
    },
    {
      "cell_type": "code",
      "source": [
        "l5.pop(1)"
      ],
      "metadata": {
        "colab": {
          "base_uri": "https://localhost:8080/"
        },
        "id": "KS9B8UrYUWTd",
        "outputId": "fb806e94-e01d-4172-e96b-efca0b0fb4fc"
      },
      "execution_count": null,
      "outputs": [
        {
          "output_type": "execute_result",
          "data": {
            "text/plain": [
              "[10, 20]"
            ]
          },
          "metadata": {},
          "execution_count": 13
        }
      ]
    },
    {
      "cell_type": "code",
      "source": [
        "print(l5)"
      ],
      "metadata": {
        "colab": {
          "base_uri": "https://localhost:8080/"
        },
        "id": "bmvdMcWxUWRB",
        "outputId": "d55ee3ef-e688-42fa-f3db-85d418dda5d0"
      },
      "execution_count": null,
      "outputs": [
        {
          "output_type": "stream",
          "name": "stdout",
          "text": [
            "['Apple', 'lemon']\n"
          ]
        }
      ]
    },
    {
      "cell_type": "code",
      "source": [
        "#delete\n",
        "l6 = ['Apple', 'cherries', 'lemon', 'lemon', 'watermelon', 'ornage', 'muskmelon', [10, 20, 30, 40]]\n",
        "#write to delete range of items in the above collection\n",
        "#[2:5]\n",
        "del l6[2:5] #this is to delete the range of numbers\n",
        "print(l6)"
      ],
      "metadata": {
        "colab": {
          "base_uri": "https://localhost:8080/"
        },
        "id": "K28TCAv8UWOb",
        "outputId": "448bff7f-66cc-4e93-c0fd-66bc2461385b"
      },
      "execution_count": null,
      "outputs": [
        {
          "output_type": "stream",
          "name": "stdout",
          "text": [
            "['Apple', 'cherries', 'ornage', 'muskmelon', [10, 20, 30, 40]]\n"
          ]
        }
      ]
    },
    {
      "cell_type": "code",
      "source": [
        "del l6[2:5]\n",
        "print(l6)"
      ],
      "metadata": {
        "colab": {
          "base_uri": "https://localhost:8080/"
        },
        "id": "d3BYdnG9VftS",
        "outputId": "cd9e0286-0979-477c-a4bf-6860de562723"
      },
      "execution_count": null,
      "outputs": [
        {
          "output_type": "stream",
          "name": "stdout",
          "text": [
            "['Apple', 'cherries']\n"
          ]
        }
      ]
    },
    {
      "cell_type": "code",
      "source": [
        "del l6 #this will delete entire collection"
      ],
      "metadata": {
        "id": "tBJqx1raVfp6"
      },
      "execution_count": null,
      "outputs": []
    },
    {
      "cell_type": "code",
      "source": [
        "l = [10,20,30,40]\n",
        "l2= ['Apple', 'cherries', 'lemon', 'lemon']\n",
        "l2.update(l)\n",
        "print(l2)\n",
        "#Note:- \"Update()\" is not present in the list collection so you will rise attribute error."
      ],
      "metadata": {
        "id": "6j_ohPJxVfnt"
      },
      "execution_count": null,
      "outputs": []
    },
    {
      "cell_type": "code",
      "source": [
        "#sorting can be done based on \"ascii\" number\n",
        "#ASCII:- american standard code for information inter change."
      ],
      "metadata": {
        "id": "4PsjNwsTVflc"
      },
      "execution_count": null,
      "outputs": []
    },
    {
      "cell_type": "code",
      "source": [
        "l2 = ['mango',\"Apple\",'pineapple','grape','kiwi','watermelon']\n",
        "#insert \"apple\" in index position \"1\"\n",
        "l2.insert(1,'apple')\n",
        "print(l2)"
      ],
      "metadata": {
        "colab": {
          "base_uri": "https://localhost:8080/"
        },
        "id": "GKGZ83Z3VfjC",
        "outputId": "ca0a0112-3199-4a47-b934-fa4a4dfe6f54"
      },
      "execution_count": null,
      "outputs": [
        {
          "output_type": "stream",
          "name": "stdout",
          "text": [
            "['mango', 'apple', 'Apple', 'pineapple', 'grape', 'kiwi', 'watermelon']\n"
          ]
        }
      ]
    },
    {
      "cell_type": "code",
      "source": [
        "#sort above list\n",
        "l2.sort()  #default is ascending order (lower to higher ..A ascivalue is 65,)\n",
        "print(l2)"
      ],
      "metadata": {
        "colab": {
          "base_uri": "https://localhost:8080/"
        },
        "id": "M_TucLG1Vfgk",
        "outputId": "6e1ac3c6-831b-4706-ff0f-a9c5d818aa63"
      },
      "execution_count": null,
      "outputs": [
        {
          "output_type": "stream",
          "name": "stdout",
          "text": [
            "['Apple', 'apple', 'grape', 'kiwi', 'mango', 'pineapple', 'watermelon']\n"
          ]
        }
      ]
    },
    {
      "cell_type": "code",
      "source": [
        "#sort above list in descending order.\n",
        "l2.sort(reverse = True)\n",
        "print(l2)"
      ],
      "metadata": {
        "colab": {
          "base_uri": "https://localhost:8080/"
        },
        "id": "lG8Dh6C0VfeO",
        "outputId": "af08830b-da39-4f94-d315-bd3c6f437c7f"
      },
      "execution_count": null,
      "outputs": [
        {
          "output_type": "stream",
          "name": "stdout",
          "text": [
            "['watermelon', 'pineapple', 'mango', 'kiwi', 'grape', 'apple', 'Apple']\n"
          ]
        }
      ]
    },
    {
      "cell_type": "code",
      "source": [
        "#sort the above collection without case sensitivity?\n",
        "l2.sort(key=str.lower)\n",
        "print(l2)"
      ],
      "metadata": {
        "colab": {
          "base_uri": "https://localhost:8080/"
        },
        "id": "tVx__7dBVfb0",
        "outputId": "a8dd0d99-5339-4913-9072-effd0949619a"
      },
      "execution_count": null,
      "outputs": [
        {
          "output_type": "stream",
          "name": "stdout",
          "text": [
            "['apple', 'Apple', 'grape', 'kiwi', 'mango', 'pineapple', 'watermelon']\n"
          ]
        }
      ]
    },
    {
      "cell_type": "code",
      "source": [
        "l = ['watermelon', 'pineapple', 'mango', 'kiwi', 'grape', 'apple', 'Apple']\n",
        "\n",
        "l[0:4:3]=\"mango\",'watermelon'\n",
        "print(l)"
      ],
      "metadata": {
        "colab": {
          "base_uri": "https://localhost:8080/"
        },
        "id": "EoriS8XQc4GK",
        "outputId": "174b3242-9e09-46cb-b9aa-e781750ecb20"
      },
      "execution_count": null,
      "outputs": [
        {
          "output_type": "stream",
          "name": "stdout",
          "text": [
            "['mango', 'pineapple', 'mango', 'watermelon', 'grape', 'apple', 'Apple']\n"
          ]
        }
      ]
    },
    {
      "cell_type": "markdown",
      "source": [
        "#Tuple"
      ],
      "metadata": {
        "id": "0CWwFE8Bfbih"
      }
    },
    {
      "cell_type": "code",
      "source": [
        "#Tuple: ---> ()\n",
        "#ordered,immutable(unchangable),it allows the duplicates"
      ],
      "metadata": {
        "id": "sOKCwr8Gc4DJ"
      },
      "execution_count": null,
      "outputs": []
    },
    {
      "cell_type": "code",
      "source": [
        "#tuple allow duplicates\n",
        "t1 = ('Apple', 'Apple', 'grape', 'kiwi', 'mango', 'pineapple', 'watermelon')\n",
        "print(t1)\n",
        "print(len(t1))\n",
        "print(type(t1))\n"
      ],
      "metadata": {
        "colab": {
          "base_uri": "https://localhost:8080/"
        },
        "id": "YO-ukjC2c4Av",
        "outputId": "f557f045-02dd-4ffa-e52e-11f3e028dd59"
      },
      "execution_count": null,
      "outputs": [
        {
          "output_type": "stream",
          "name": "stdout",
          "text": [
            "('Apple', 'Apple', 'grape', 'kiwi', 'mango', 'pineapple', 'watermelon')\n",
            "7\n",
            "<class 'tuple'>\n"
          ]
        }
      ]
    },
    {
      "cell_type": "code",
      "source": [
        "#ordered:- accessing or displaying the specific data by using index position numbers.\n",
        "# each element in the collection is having its index position number.\n",
        "#[start]\n",
        "t1 = ('Apple', 'Apple', 'grape', 'kiwi', 'mango', 'pineapple', 'watermelon')\n",
        "#i want only mango from above collection\n",
        "print(t1[4])\n"
      ],
      "metadata": {
        "colab": {
          "base_uri": "https://localhost:8080/"
        },
        "id": "cUwj8NXJc3-X",
        "outputId": "cdc884a8-c560-404e-d70d-1d993a5f52dc"
      },
      "execution_count": null,
      "outputs": [
        {
          "output_type": "stream",
          "name": "stdout",
          "text": [
            "mango\n"
          ]
        }
      ]
    },
    {
      "cell_type": "code",
      "source": [
        "#print the range of elements in t1 -->[3:5] print the 5th item also?\n",
        "t1 = ('Apple', 'Apple', 'grape', 'kiwi', 'mango', 'pineapple', 'watermelon')\n",
        "print(t1[3:6])"
      ],
      "metadata": {
        "colab": {
          "base_uri": "https://localhost:8080/"
        },
        "id": "-pLm6rVrc38D",
        "outputId": "a93c6aca-b672-4758-e268-435b73af3909"
      },
      "execution_count": null,
      "outputs": [
        {
          "output_type": "stream",
          "name": "stdout",
          "text": [
            "('kiwi', 'mango', 'pineapple')\n"
          ]
        }
      ]
    },
    {
      "cell_type": "code",
      "source": [
        "#print even position elements in above collection?\n",
        "t1 = ('Apple', 'Apple', 'grape', 'kiwi', 'mango', 'pineapple', 'watermelon')\n",
        "print(t1[::2])   #start can be 0 and end can be len(t1) by default"
      ],
      "metadata": {
        "colab": {
          "base_uri": "https://localhost:8080/"
        },
        "id": "uTkO55boc35q",
        "outputId": "e649dfd8-c659-41d6-dcd1-d4bce12ebbf1"
      },
      "execution_count": null,
      "outputs": [
        {
          "output_type": "stream",
          "name": "stdout",
          "text": [
            "('Apple', 'grape', 'mango', 'watermelon')\n"
          ]
        }
      ]
    },
    {
      "cell_type": "code",
      "source": [
        "#reverse the tuple\n",
        "print(t1[::-1])"
      ],
      "metadata": {
        "colab": {
          "base_uri": "https://localhost:8080/"
        },
        "id": "3Z_GzNUVc33f",
        "outputId": "cb86384c-1a62-42d0-81c2-e3dacade9514"
      },
      "execution_count": null,
      "outputs": [
        {
          "output_type": "stream",
          "name": "stdout",
          "text": [
            "('watermelon', 'pineapple', 'mango', 'kiwi', 'grape', 'Apple', 'Apple')\n"
          ]
        }
      ]
    },
    {
      "cell_type": "code",
      "source": [
        "#Immutable:-\n",
        "t1 = ('Apple', 'Apple', 'grape', 'kiwi', 'mango', 'pineapple', 'watermelon')\n",
        "t1[1] = 'orange'\n",
        "print(t1)\n",
        "t1.pop()\n",
        "print(t1)\n",
        "#Note: -  tuples are immuatable so we cannot add or delete items from tuple"
      ],
      "metadata": {
        "id": "u1KwZBH5c31T"
      },
      "execution_count": null,
      "outputs": []
    },
    {
      "cell_type": "code",
      "source": [
        "print(dir(t1))\n",
        "#'count', 'index'\n",
        "# t1.count()\n",
        "#t1.index()"
      ],
      "metadata": {
        "id": "RsDbF65Ec3zI"
      },
      "execution_count": null,
      "outputs": []
    },
    {
      "cell_type": "code",
      "source": [
        "print(t1.count(\"kiwi\"))\n",
        "print(t1.index(\"mango\"))"
      ],
      "metadata": {
        "colab": {
          "base_uri": "https://localhost:8080/"
        },
        "id": "JJdj5CGWc3wr",
        "outputId": "1a420325-6d8a-497e-f936-2a465f306daa"
      },
      "execution_count": null,
      "outputs": [
        {
          "output_type": "stream",
          "name": "stdout",
          "text": [
            "1\n",
            "4\n"
          ]
        }
      ]
    },
    {
      "cell_type": "code",
      "source": [
        "#create a list by using tuple?"
      ],
      "metadata": {
        "id": "E54phOihc3uQ"
      },
      "execution_count": null,
      "outputs": []
    },
    {
      "cell_type": "code",
      "source": [
        "#diff between list and tuple?\n",
        "#why tuples are faster than list?"
      ],
      "metadata": {
        "id": "n7wvL9pFc3sB"
      },
      "execution_count": null,
      "outputs": []
    },
    {
      "cell_type": "code",
      "source": [
        "t1 = ('Apple', 'Apple', 'grape', 'kiwi', 'mango', 'pineapple', 'watermelon')\n",
        "print(type(t1))  #<class 'tuple'>\n",
        "t_l = list(t1)\n",
        "print(t_l)   #['Apple', 'Apple', 'grape', 'kiwi', 'mango', 'pineapple', 'watermelon']\n",
        "print(type(t_l)) #<class 'list'>"
      ],
      "metadata": {
        "id": "spi390zboLJp"
      },
      "execution_count": null,
      "outputs": []
    },
    {
      "cell_type": "markdown",
      "source": [
        "#lab\n",
        "\n",
        "**list and tuple**\n"
      ],
      "metadata": {
        "id": "EVhIdFK_pKSH"
      }
    },
    {
      "cell_type": "markdown",
      "source": [
        "**set**"
      ],
      "metadata": {
        "id": "heoK5WY-ElyK"
      }
    },
    {
      "cell_type": "code",
      "source": [
        "#set --> {}\n",
        "#unordered, immutable, it wont allow the duplicates.\n",
        "#it wont allow the duplicates.\n",
        "s1 = {1,2,3,4,5,6,1,2,3,4,5,5,6,6}\n",
        "print(s1)"
      ],
      "metadata": {
        "id": "iNPJdFxsoLGb",
        "colab": {
          "base_uri": "https://localhost:8080/"
        },
        "outputId": "f14e30f4-64db-46ec-c18a-52dc714e85c4"
      },
      "execution_count": null,
      "outputs": [
        {
          "output_type": "stream",
          "name": "stdout",
          "text": [
            "{1, 2, 3, 4, 5, 6}\n"
          ]
        }
      ]
    },
    {
      "cell_type": "code",
      "source": [
        "s2 = {\"apple\",\"lemon\",\"apple\",\"lemon\"}\n",
        "print(s2)\n",
        "print(s2['apple'])"
      ],
      "metadata": {
        "id": "zsBrsLFLUcSr"
      },
      "execution_count": null,
      "outputs": []
    },
    {
      "cell_type": "code",
      "source": [
        "#unordered-->we cannot access elements from the sets why because it doesnot have index position numbers.\n",
        "print(s1[0])"
      ],
      "metadata": {
        "id": "qTCTlFczoLED"
      },
      "execution_count": null,
      "outputs": []
    },
    {
      "cell_type": "code",
      "source": [
        "#sets are immutable_\n",
        "#In sets we can able to add and delete the items/elements but we can replcae the the items/elements.\n",
        "#why we can't swap or replace or change elements in sets?\n",
        "#sets doesn't have index postions so wecannot replace the elements\n",
        "#where the elements in sets are storing?\n",
        "#elements are storing randomly in sets."
      ],
      "metadata": {
        "id": "gaDJsodOoLBj"
      },
      "execution_count": null,
      "outputs": []
    },
    {
      "cell_type": "code",
      "source": [
        "#Adding elements in sets.\n",
        "#what is the default index positions when you add elemnts/items in the sets.\n",
        "#\n",
        "s1.add(9) #add method can take only one argument\n",
        "print(s1)"
      ],
      "metadata": {
        "id": "7UMY5OGNoK_K",
        "colab": {
          "base_uri": "https://localhost:8080/"
        },
        "outputId": "acac0a79-0598-452a-e6bf-76a589ee9369"
      },
      "execution_count": null,
      "outputs": [
        {
          "output_type": "stream",
          "name": "stdout",
          "text": [
            "{1, 2, 3, 4, 5, 6, 9}\n"
          ]
        }
      ]
    },
    {
      "cell_type": "code",
      "source": [
        "#if i want to add multiple values or items in the set then?\n",
        "#update\n",
        "s3 = (10,11,12)\n",
        "s1.update(s3)\n",
        "print(s1)"
      ],
      "metadata": {
        "id": "x6RC4wE6oK8w",
        "colab": {
          "base_uri": "https://localhost:8080/"
        },
        "outputId": "7b7e80ea-eb82-48be-fc6d-7694ae91f8cb"
      },
      "execution_count": null,
      "outputs": [
        {
          "output_type": "stream",
          "name": "stdout",
          "text": [
            "{1, 2, 3, 4, 5, 6, 9, 10, 11, 12}\n"
          ]
        }
      ]
    },
    {
      "cell_type": "code",
      "source": [
        "s1.update(\"20\",\"30\",\"40\")\n",
        "print(s1)"
      ],
      "metadata": {
        "id": "IVyYF0gjoK6Q",
        "colab": {
          "base_uri": "https://localhost:8080/"
        },
        "outputId": "3a9d62d8-9a33-4566-9470-eceaac8a1456"
      },
      "execution_count": null,
      "outputs": [
        {
          "output_type": "stream",
          "name": "stdout",
          "text": [
            "{1, 2, 3, 4, 5, 6, 9, 10, 11, 12, '4', '3', '0', '2'}\n"
          ]
        }
      ]
    },
    {
      "cell_type": "code",
      "source": [
        "#remove elements from set.\n",
        "s1.remove(1)\n",
        "print(s1)"
      ],
      "metadata": {
        "id": "yQyqOa2OoK3w",
        "colab": {
          "base_uri": "https://localhost:8080/"
        },
        "outputId": "3f6e9871-e618-4223-9615-0459e8e991c0"
      },
      "execution_count": null,
      "outputs": [
        {
          "output_type": "stream",
          "name": "stdout",
          "text": [
            "{2, 3, 4, 5, 6, 9, 10, 11, 12, '4', '3', '0', '2'}\n"
          ]
        }
      ]
    },
    {
      "cell_type": "code",
      "source": [
        "s1.remove('0') #remove() takes exactly one argument\n",
        "print(s1)"
      ],
      "metadata": {
        "colab": {
          "base_uri": "https://localhost:8080/"
        },
        "id": "fGQQ6abWMuMZ",
        "outputId": "6bf7c272-8f84-442e-843d-8017e6b03a79"
      },
      "execution_count": null,
      "outputs": [
        {
          "output_type": "stream",
          "name": "stdout",
          "text": [
            "{2, 3, 4, 5, 6, 9, 10, 11, 12, '3', '2'}\n"
          ]
        }
      ]
    },
    {
      "cell_type": "code",
      "source": [
        "#discard\n",
        "s1.discard(2) #discard() takes exactly one argument\n",
        "print(s1)\n"
      ],
      "metadata": {
        "id": "lfh1K4h7MuJ2"
      },
      "execution_count": null,
      "outputs": []
    },
    {
      "cell_type": "code",
      "source": [
        "#pop\n",
        "s1.pop()\n",
        "print(s1)\n",
        "#why we are not using pop methods in sets?\n",
        "#it removes the elements randomly."
      ],
      "metadata": {
        "colab": {
          "base_uri": "https://localhost:8080/"
        },
        "id": "g8EiBExwMuHy",
        "outputId": "39d35eb5-0c8d-4c26-a530-d9e576a19b2d"
      },
      "execution_count": null,
      "outputs": [
        {
          "output_type": "stream",
          "name": "stdout",
          "text": [
            "{9, 10, 11, 12, '3', '2'}\n"
          ]
        }
      ]
    },
    {
      "cell_type": "code",
      "source": [
        "#delete\n",
        "del s1"
      ],
      "metadata": {
        "id": "5aGlHbyBMuEa"
      },
      "execution_count": null,
      "outputs": []
    },
    {
      "cell_type": "code",
      "source": [
        "#what is difference between discard and remove?\n",
        "#when we use discard if the item exist or not in the collection it wont through any errors while execution\n",
        "s = {2, 3, 4, 5, 6, 9, 10, 11, 12, '4', '3', '0', '2'}\n",
        "s.discard(2)\n",
        "print(s)"
      ],
      "metadata": {
        "colab": {
          "base_uri": "https://localhost:8080/"
        },
        "id": "GIz_2iZBMuB5",
        "outputId": "118796ff-7c98-4e8d-957e-69379c090ffc"
      },
      "execution_count": null,
      "outputs": [
        {
          "output_type": "stream",
          "name": "stdout",
          "text": [
            "{3, 4, 5, 6, '3', '4', 9, 10, 11, 12, '0', '2'}\n"
          ]
        }
      ]
    },
    {
      "cell_type": "code",
      "source": [
        "#execute martix operation by using two sets\n",
        "#union and intersection\n",
        "s5 = {\"a\",\"b\",\"c\",\"d\"}\n",
        "s6 = {\"d\",\"e\",\"f\",\"g\"}\n",
        "s_add = s5.union(s6)\n",
        "print(s_add)"
      ],
      "metadata": {
        "colab": {
          "base_uri": "https://localhost:8080/"
        },
        "id": "pCGMJ9qfMt_K",
        "outputId": "7568baac-a8e5-45b5-b75a-1e6303c9c362"
      },
      "execution_count": null,
      "outputs": [
        {
          "output_type": "stream",
          "name": "stdout",
          "text": [
            "{'d', 'f', 'g', 'a', 'b', 'e', 'c'}\n"
          ]
        }
      ]
    },
    {
      "cell_type": "code",
      "source": [
        "s_inter = s5.intersection(s6) # coomon elements will be printed\n",
        "print(s_inter)"
      ],
      "metadata": {
        "colab": {
          "base_uri": "https://localhost:8080/"
        },
        "id": "gVadvBIvMt7Y",
        "outputId": "f8eb009c-0272-4b89-98b4-7131b5552fab"
      },
      "execution_count": null,
      "outputs": [
        {
          "output_type": "stream",
          "name": "stdout",
          "text": [
            "{'d'}\n"
          ]
        }
      ]
    },
    {
      "cell_type": "markdown",
      "source": [
        "**dictionary**"
      ],
      "metadata": {
        "id": "5_345h3UVM5_"
      }
    },
    {
      "cell_type": "code",
      "source": [
        "#what is dict?\n",
        "#-->{}--> unordered, mutable,donot allow the duplicates.\n",
        "#where the items stored in dictionaray.\n",
        "#key:value"
      ],
      "metadata": {
        "id": "0Ywb8BMLMt3A"
      },
      "execution_count": null,
      "outputs": []
    },
    {
      "cell_type": "code",
      "source": [
        "#dictionary wont allow duplicates\n",
        "d1 = {\n",
        "    \"Name\":\"shahul\",\n",
        "    \"age\" : 28,\n",
        "    \"education\" : \"Matsers in Ds\",\n",
        "    \"education\" : \"B.tech\"\n",
        "}\n",
        "print(d1)\n",
        "#find the length of dict\n",
        "print(len(d1))"
      ],
      "metadata": {
        "colab": {
          "base_uri": "https://localhost:8080/"
        },
        "id": "4mJ8ku_wUKDc",
        "outputId": "85df8f0f-053b-4d8e-8267-40b53e223063"
      },
      "execution_count": null,
      "outputs": [
        {
          "output_type": "stream",
          "name": "stdout",
          "text": [
            "{'Name': 'shahul', 'age': 28, 'education': 'B.tech'}\n",
            "3\n"
          ]
        }
      ]
    },
    {
      "cell_type": "code",
      "source": [
        "d1 = {\n",
        "    \"Name\":\"shahul\",\n",
        "    \"age\" : 28,\n",
        "    \"education\" : \"Matsers in Ds\",\n",
        "    \"education\" : \"B.tech\",\n",
        "    \"fruits\" : ['Mango','Cherries','Banana','Pineapple','oranges','Apple']\n",
        "}"
      ],
      "metadata": {
        "id": "W6iBeVVGUJ_7"
      },
      "execution_count": null,
      "outputs": []
    },
    {
      "cell_type": "code",
      "source": [
        "#print \"name from dictionary\" d1?\n",
        "print(d1['Name'])"
      ],
      "metadata": {
        "colab": {
          "base_uri": "https://localhost:8080/"
        },
        "id": "r9cb3LTqUJ9V",
        "outputId": "37c4bc78-9600-4af7-edc4-49e4fb4c7860"
      },
      "execution_count": null,
      "outputs": [
        {
          "output_type": "stream",
          "name": "stdout",
          "text": [
            "shahul\n"
          ]
        }
      ]
    },
    {
      "cell_type": "code",
      "source": [
        "#print \"fruits\" from d1?\n",
        "print(d1['fruits'])\n",
        "#in this fruits access only banana\n",
        "print(d1['fruits'][::-1])"
      ],
      "metadata": {
        "colab": {
          "base_uri": "https://localhost:8080/"
        },
        "id": "nqiudJ-JUJ7G",
        "outputId": "6446a3bc-37ee-4789-d541-5eb09056a1fc"
      },
      "execution_count": null,
      "outputs": [
        {
          "output_type": "stream",
          "name": "stdout",
          "text": [
            "['Mango', 'Cherries', 'Banana', 'Pineapple', 'oranges', 'Apple']\n",
            "['Apple', 'oranges', 'Pineapple', 'Banana', 'Cherries', 'Mango']\n"
          ]
        }
      ]
    },
    {
      "cell_type": "code",
      "source": [
        "#I want to replace the value of \"Name\"\n",
        "d1['Name'] ='Zenvius'\n",
        "print(d1)"
      ],
      "metadata": {
        "colab": {
          "base_uri": "https://localhost:8080/"
        },
        "id": "j5S9rCiPUJ4m",
        "outputId": "d5b6d12a-6dd1-45cf-a7c1-62ec25992109"
      },
      "execution_count": null,
      "outputs": [
        {
          "output_type": "stream",
          "name": "stdout",
          "text": [
            "{'Name': 'Zenvius', 'age': 28, 'education': 'B.tech', 'fruits': ['Mango', 'Cherries', 'Banana', 'Pineapple', 'oranges', 'Apple']}\n"
          ]
        }
      ]
    },
    {
      "cell_type": "code",
      "source": [
        "d1['bike'] = \"Interceptor\"\n",
        "print(d1)"
      ],
      "metadata": {
        "colab": {
          "base_uri": "https://localhost:8080/"
        },
        "id": "orRwmW-8UJ2N",
        "outputId": "fda341ca-632f-453e-896a-b190ba93bfa7"
      },
      "execution_count": null,
      "outputs": [
        {
          "output_type": "stream",
          "name": "stdout",
          "text": [
            "{'Name': 'Zenvius', 'age': 28, 'education': 'B.tech', 'fruits': ['Mango', 'Cherries', 'Banana', 'Pineapple', 'oranges', 'Apple'], 'bike': 'Interceptor'}\n"
          ]
        }
      ]
    },
    {
      "cell_type": "code",
      "source": [
        "#We are not using any replace and insert methods in dictionary\n",
        "#if the key name exits the value gets replaced other wise if the key name doesn't exit a new:value pair  is added.\n"
      ],
      "metadata": {
        "id": "N5RYGBDjUJzr"
      },
      "execution_count": null,
      "outputs": []
    },
    {
      "cell_type": "code",
      "source": [
        "#how can we delete or remove items in a dictionary?\n",
        "d1 = {\n",
        "    \"Name\":\"shahul\",\n",
        "    \"age\" : 28,\n",
        "    \"education\" : \"Matsers in Ds\",\n",
        "    \"education\" : \"B.tech\",\n",
        "    \"fruits\" : ['Mango','Cherries','Banana','Pineapple','oranges','Apple']\n",
        "}\n",
        "\n",
        "#delete fruits from above dict\n",
        "d1.pop('fruits')\n",
        "print(d1)"
      ],
      "metadata": {
        "colab": {
          "base_uri": "https://localhost:8080/"
        },
        "id": "tRaOLpZjUJxD",
        "outputId": "fcf6823e-280b-4498-9b16-b959a9094be4"
      },
      "execution_count": null,
      "outputs": [
        {
          "output_type": "stream",
          "name": "stdout",
          "text": [
            "{'Name': 'shahul', 'age': 28, 'education': 'B.tech'}\n"
          ]
        }
      ]
    },
    {
      "cell_type": "code",
      "source": [
        "d1 = {\n",
        "    \"Name\":\"shahul\",\n",
        "    \"age\" : 28,\n",
        "    \"education\" : \"Matsers in Ds\",\n",
        "    \"education\" : \"B.tech\",\n",
        "    \"fruits\" : ['Mango','Cherries']\n",
        "}"
      ],
      "metadata": {
        "id": "qmYDA2oSUJuq"
      },
      "execution_count": null,
      "outputs": []
    },
    {
      "cell_type": "code",
      "source": [
        "#insert kiwi in to fruits of list\n",
        "d1['fruits'][1:2] = 'kiwi'\n",
        "print(d1)"
      ],
      "metadata": {
        "id": "mHp3YGJAMt0s",
        "colab": {
          "base_uri": "https://localhost:8080/"
        },
        "outputId": "f1ce774f-e320-41ab-de73-7c00d11fadb3"
      },
      "execution_count": null,
      "outputs": [
        {
          "output_type": "stream",
          "name": "stdout",
          "text": [
            "{'Name': 'shahul', 'age': 28, 'education': 'B.tech', 'fruits': ['Mango', 'kiwi']}\n"
          ]
        }
      ]
    },
    {
      "cell_type": "code",
      "source": [
        "#insert method\n",
        "d1['fruits'].insert(2,'lemon')\n",
        "print(d1)"
      ],
      "metadata": {
        "colab": {
          "base_uri": "https://localhost:8080/"
        },
        "id": "N3XNiSHPdSaD",
        "outputId": "c1b2f305-ba51-47c8-b309-17e15eccceb9"
      },
      "execution_count": null,
      "outputs": [
        {
          "output_type": "stream",
          "name": "stdout",
          "text": [
            "{'Name': 'shahul', 'age': 28, 'education': 'B.tech', 'fruits': ['Mango', 'kiwi', 'lemon']}\n"
          ]
        }
      ]
    },
    {
      "cell_type": "code",
      "source": [
        "#Append Method\n",
        "d1['fruits'].append('cherry')\n",
        "print(d1)"
      ],
      "metadata": {
        "colab": {
          "base_uri": "https://localhost:8080/"
        },
        "id": "2yg05CCwdSWq",
        "outputId": "c9f4b54b-df61-447d-b798-a616e4599ac3"
      },
      "execution_count": null,
      "outputs": [
        {
          "output_type": "stream",
          "name": "stdout",
          "text": [
            "{'Name': 'shahul', 'age': 28, 'education': 'B.tech', 'fruits': ['Mango', 'kiwi', 'lemon', 'cherry']}\n"
          ]
        }
      ]
    },
    {
      "cell_type": "code",
      "source": [
        "d1['fruits'][1] = ['kiwi',\"drygrapes\",'grapes','orange']\n",
        "print(d1)"
      ],
      "metadata": {
        "colab": {
          "base_uri": "https://localhost:8080/"
        },
        "id": "FhE1RqftdSUR",
        "outputId": "de17f481-c6bd-4449-b07a-19a3e92227c7"
      },
      "execution_count": null,
      "outputs": [
        {
          "output_type": "stream",
          "name": "stdout",
          "text": [
            "{'Name': 'shahul', 'age': 28, 'education': 'B.tech', 'fruits': ['Mango', ['kiwi', 'drygrapes', 'grapes', 'orange'], 'lemon', 'cherry']}\n"
          ]
        }
      ]
    },
    {
      "cell_type": "code",
      "source": [
        "d3={'Name': 'shahul',\n",
        "    'age': 28,\n",
        "    'education': 'B.tech',\n",
        "    'fruits': ['Mango', ['kiwi', 'drygrapes', 'grapes', 'orange'], 'lemon', 'cherry']}\n"
      ],
      "metadata": {
        "id": "AkMHLBwQdSR-"
      },
      "execution_count": null,
      "outputs": []
    },
    {
      "cell_type": "code",
      "source": [
        "d3.pop(\"fruits\")"
      ],
      "metadata": {
        "colab": {
          "base_uri": "https://localhost:8080/"
        },
        "id": "fTgoTHXEdSPS",
        "outputId": "e69be91d-bab0-4641-8e9d-aa1bf3da3c0d"
      },
      "execution_count": null,
      "outputs": [
        {
          "output_type": "execute_result",
          "data": {
            "text/plain": [
              "['Mango', ['kiwi', 'drygrapes', 'grapes', 'orange'], 'lemon', 'cherry']"
            ]
          },
          "metadata": {},
          "execution_count": 30
        }
      ]
    },
    {
      "cell_type": "code",
      "source": [
        "del d3['age']"
      ],
      "metadata": {
        "id": "pSF8Xjf9dSMl"
      },
      "execution_count": null,
      "outputs": []
    },
    {
      "cell_type": "code",
      "source": [
        "d3.clear()"
      ],
      "metadata": {
        "id": "hh4Sn6nQdSC1"
      },
      "execution_count": null,
      "outputs": []
    },
    {
      "cell_type": "code",
      "source": [
        "print(d3)"
      ],
      "metadata": {
        "colab": {
          "base_uri": "https://localhost:8080/"
        },
        "id": "2g1aKN8VhW4x",
        "outputId": "acd50be9-f0c3-4bd1-b971-3c0d02de689f"
      },
      "execution_count": null,
      "outputs": [
        {
          "output_type": "stream",
          "name": "stdout",
          "text": [
            "{}\n"
          ]
        }
      ]
    },
    {
      "cell_type": "code",
      "source": [
        "d4= {'Name': 'shahul',\n",
        "     'age': 28,\n",
        "     'education': 'B.tech',\n",
        "     'fruits': ['Mango', 'kiwi', 'lemon']}\n",
        "\n",
        "#print only keys from dictionary\n",
        "print(d4.keys())\n",
        "#print only items\n",
        "print(d4.items())\n",
        "#print only values\n",
        "print(d4.values())"
      ],
      "metadata": {
        "colab": {
          "base_uri": "https://localhost:8080/"
        },
        "id": "bnulbn8AhcrY",
        "outputId": "8483cad2-feed-456d-b308-17f9aa387125"
      },
      "execution_count": null,
      "outputs": [
        {
          "output_type": "stream",
          "name": "stdout",
          "text": [
            "dict_keys(['Name', 'age', 'education', 'fruits'])\n",
            "dict_items([('Name', 'shahul'), ('age', 28), ('education', 'B.tech'), ('fruits', ['Mango', 'kiwi', 'lemon'])])\n",
            "dict_values(['shahul', 28, 'B.tech', ['Mango', 'kiwi', 'lemon']])\n"
          ]
        }
      ]
    },
    {
      "cell_type": "code",
      "source": [
        "#working with loops in dictionary\n",
        "for x in d4.keys():\n",
        "  print(x)"
      ],
      "metadata": {
        "colab": {
          "base_uri": "https://localhost:8080/"
        },
        "id": "9PvHFSBjhcoA",
        "outputId": "73e58a9b-ddaf-4167-eb74-291862440fb3"
      },
      "execution_count": null,
      "outputs": [
        {
          "output_type": "stream",
          "name": "stdout",
          "text": [
            "Name\n",
            "age\n",
            "education\n",
            "fruits\n"
          ]
        }
      ]
    },
    {
      "cell_type": "code",
      "source": [
        "for x in d4:\n",
        "  print(x)"
      ],
      "metadata": {
        "colab": {
          "base_uri": "https://localhost:8080/"
        },
        "id": "jO9iI1V_hclm",
        "outputId": "e7eb78a4-a895-4591-ff8f-81f6c0b123d4"
      },
      "execution_count": null,
      "outputs": [
        {
          "output_type": "stream",
          "name": "stdout",
          "text": [
            "Name\n",
            "age\n",
            "education\n",
            "fruits\n"
          ]
        }
      ]
    },
    {
      "cell_type": "code",
      "source": [
        "#print only values in separate line.\n",
        "for x in d4.values():\n",
        "  print(x)"
      ],
      "metadata": {
        "colab": {
          "base_uri": "https://localhost:8080/"
        },
        "id": "oCd5aBJQhcjI",
        "outputId": "5e603134-b15d-443a-f706-720d9f42d9e9"
      },
      "execution_count": null,
      "outputs": [
        {
          "output_type": "stream",
          "name": "stdout",
          "text": [
            "shahul\n",
            "28\n",
            "B.tech\n",
            "['Mango', 'kiwi', 'lemon']\n"
          ]
        }
      ]
    },
    {
      "cell_type": "code",
      "source": [
        "for x in d4.items():\n",
        "  print(x)"
      ],
      "metadata": {
        "colab": {
          "base_uri": "https://localhost:8080/"
        },
        "id": "wksJfN2yhcge",
        "outputId": "890d605a-5cf7-481c-a5a3-ce84710fb1d8"
      },
      "execution_count": null,
      "outputs": [
        {
          "output_type": "stream",
          "name": "stdout",
          "text": [
            "('Name', 'shahul')\n",
            "('age', 28)\n",
            "('education', 'B.tech')\n",
            "('fruits', ['Mango', 'kiwi', 'lemon'])\n"
          ]
        }
      ]
    },
    {
      "cell_type": "code",
      "source": [
        "#print key value pairs in separate line?\n",
        "for x in d4.keys():\n",
        "  print(f'{x}:{d4[x]}')"
      ],
      "metadata": {
        "colab": {
          "base_uri": "https://localhost:8080/"
        },
        "id": "J6A7flnvhceA",
        "outputId": "4d342f56-d8ce-4e97-91a7-8be89d04d4c4"
      },
      "execution_count": null,
      "outputs": [
        {
          "output_type": "stream",
          "name": "stdout",
          "text": [
            "Name:shahul\n",
            "age:28\n",
            "education:B.tech\n",
            "fruits:['Mango', 'kiwi', 'lemon']\n"
          ]
        }
      ]
    },
    {
      "cell_type": "code",
      "source": [],
      "metadata": {
        "id": "BE-29HqJhcbj"
      },
      "execution_count": null,
      "outputs": []
    },
    {
      "cell_type": "code",
      "source": [],
      "metadata": {
        "id": "TECW89fPhcZY"
      },
      "execution_count": null,
      "outputs": []
    },
    {
      "cell_type": "code",
      "source": [],
      "metadata": {
        "id": "WO6DRgAGhcXK"
      },
      "execution_count": null,
      "outputs": []
    },
    {
      "cell_type": "code",
      "source": [],
      "metadata": {
        "id": "XiOOyc4JhcUO"
      },
      "execution_count": null,
      "outputs": []
    },
    {
      "cell_type": "code",
      "source": [],
      "metadata": {
        "id": "iCUyFbzzhcRx"
      },
      "execution_count": null,
      "outputs": []
    },
    {
      "cell_type": "code",
      "source": [],
      "metadata": {
        "id": "ck7kG7PrhcPV"
      },
      "execution_count": null,
      "outputs": []
    },
    {
      "cell_type": "code",
      "source": [
        "#from above o/p how can we access the elements\n",
        "print(l2[7])"
      ],
      "metadata": {
        "id": "lcTozaJUM40L",
        "colab": {
          "base_uri": "https://localhost:8080/"
        },
        "outputId": "36953dec-e707-4adb-a39e-ea33a16e4053"
      },
      "execution_count": null,
      "outputs": [
        {
          "output_type": "stream",
          "name": "stdout",
          "text": [
            "[10, 20, 30, 40]\n"
          ]
        }
      ]
    },
    {
      "cell_type": "code",
      "source": [],
      "metadata": {
        "id": "cwYFe4r0M4x0"
      },
      "execution_count": null,
      "outputs": []
    },
    {
      "cell_type": "code",
      "source": [],
      "metadata": {
        "id": "s57hlprxM4vT"
      },
      "execution_count": null,
      "outputs": []
    },
    {
      "cell_type": "code",
      "source": [],
      "metadata": {
        "id": "DtZobq8_M4tF"
      },
      "execution_count": null,
      "outputs": []
    },
    {
      "cell_type": "code",
      "source": [],
      "metadata": {
        "id": "6yAed7r5M4qq"
      },
      "execution_count": null,
      "outputs": []
    },
    {
      "cell_type": "code",
      "source": [
        "x = int(input())\n",
        "free = 100\n",
        "if x <= free:\n",
        "  print(\"No Charges\")\n",
        "elif x > 101 and x <= 200:\n",
        "  print((x-free)*5)\n",
        "elif x > 201:\n",
        "  print(((x -free)*10)-500)\n",
        "else:\n",
        "  print(\"you have entered wrong values\")"
      ],
      "metadata": {
        "id": "iE24sVIeVCkF",
        "colab": {
          "base_uri": "https://localhost:8080/"
        },
        "outputId": "bdea150f-98a0-4773-b510-0cae9993653d"
      },
      "execution_count": null,
      "outputs": [
        {
          "output_type": "stream",
          "name": "stdout",
          "text": [
            "400\n",
            "2500\n"
          ]
        }
      ]
    },
    {
      "cell_type": "code",
      "source": [
        "# print(300*10)\n",
        "# print(100*5)\n",
        "print(200*10)\n",
        "2500"
      ],
      "metadata": {
        "colab": {
          "base_uri": "https://localhost:8080/"
        },
        "id": "d2kko0JMnWLX",
        "outputId": "46b8d21b-d863-4326-a776-404a0086b178"
      },
      "execution_count": null,
      "outputs": [
        {
          "output_type": "stream",
          "name": "stdout",
          "text": [
            "2000\n"
          ]
        }
      ]
    },
    {
      "cell_type": "code",
      "source": [
        "#350\n",
        "#100---0\n",
        "# print(250*10) #---->2500\n",
        "print(100*5) #-----500\n",
        "print(150*10)#------>1500"
      ],
      "metadata": {
        "colab": {
          "base_uri": "https://localhost:8080/"
        },
        "id": "KvsIU6zEnwn_",
        "outputId": "a30afc41-465a-466d-9151-10a6e2af172c"
      },
      "execution_count": null,
      "outputs": [
        {
          "output_type": "stream",
          "name": "stdout",
          "text": [
            "2500\n"
          ]
        }
      ]
    },
    {
      "cell_type": "code",
      "source": [
        "print(322*10)"
      ],
      "metadata": {
        "colab": {
          "base_uri": "https://localhost:8080/"
        },
        "id": "nPGvhfkYogWr",
        "outputId": "0c39e1db-42c2-4709-af0d-cc28420bc2d4"
      },
      "execution_count": null,
      "outputs": [
        {
          "output_type": "stream",
          "name": "stdout",
          "text": [
            "3220\n"
          ]
        }
      ]
    },
    {
      "cell_type": "code",
      "source": [
        "print(100*5)\n",
        "print(222*10)"
      ],
      "metadata": {
        "colab": {
          "base_uri": "https://localhost:8080/"
        },
        "id": "f2MmpjPFokSf",
        "outputId": "5f4dc8e9-366c-4d65-e44d-5f483e9641af"
      },
      "execution_count": null,
      "outputs": [
        {
          "output_type": "stream",
          "name": "stdout",
          "text": [
            "500\n",
            "2220\n"
          ]
        }
      ]
    },
    {
      "cell_type": "markdown",
      "source": [
        "#Functions"
      ],
      "metadata": {
        "id": "Em2_qAiQa2UL"
      }
    },
    {
      "cell_type": "code",
      "source": [
        "#what is a function?\n",
        "#function is a block of code which only runs when it is called.\n",
        "print(\"hello\")\n",
        "print(len(\"hello\"))\n",
        "print(type(\"hello\"))"
      ],
      "metadata": {
        "colab": {
          "base_uri": "https://localhost:8080/"
        },
        "id": "pZr8oMyPbBH7",
        "outputId": "b274cc22-5a67-41c6-80be-1e1261efb5cf"
      },
      "execution_count": null,
      "outputs": [
        {
          "output_type": "stream",
          "name": "stdout",
          "text": [
            "hello\n",
            "5\n",
            "<class 'str'>\n"
          ]
        }
      ]
    },
    {
      "cell_type": "code",
      "source": [
        "#How to create the function and how to call the function?\n",
        "#to crteate the function use keyword called \"def\"\n",
        "def f1():\n",
        "  print(\"hello world\")\n",
        "  print(\"this is runing with a function\")\n",
        "  print(\"=======================\")\n",
        "\n",
        "#call this function\n",
        "f1()"
      ],
      "metadata": {
        "colab": {
          "base_uri": "https://localhost:8080/"
        },
        "id": "CtW9NQ7MeTZM",
        "outputId": "1f562b9c-1cc4-435b-8b79-14c29b0cd3be"
      },
      "execution_count": null,
      "outputs": [
        {
          "output_type": "stream",
          "name": "stdout",
          "text": [
            "hello world\n",
            "this is runing with a function\n",
            "=======================\n"
          ]
        }
      ]
    },
    {
      "cell_type": "code",
      "source": [
        "def zenvius_welcome():\n",
        "  print(\"hello good morning\")\n",
        "  print(\"This is your module 2\")\n",
        "  print(\"please practice your sessions\")\n",
        "#call the function\n",
        "zenvius_welcome()"
      ],
      "metadata": {
        "colab": {
          "base_uri": "https://localhost:8080/"
        },
        "id": "zjqErJtlfJt1",
        "outputId": "5a47ff11-0d3c-46a3-c313-e394c41255ae"
      },
      "execution_count": null,
      "outputs": [
        {
          "output_type": "stream",
          "name": "stdout",
          "text": [
            "hello good morning\n",
            "This is your module 2\n",
            "please practice your sessions\n"
          ]
        }
      ]
    },
    {
      "cell_type": "code",
      "source": [
        "#what is parameter?\n",
        "#what is argument?\n",
        "#what is diff between parameter and argument?\n"
      ],
      "metadata": {
        "id": "gZ4wI_CffMh5"
      },
      "execution_count": null,
      "outputs": []
    },
    {
      "cell_type": "markdown",
      "source": [
        "**parameter**\n",
        "\n",
        "**Argument**"
      ],
      "metadata": {
        "id": "5PzVUAjyhXyu"
      }
    },
    {
      "cell_type": "code",
      "source": [
        "#what is parameter?\n",
        "#creating a varaible when your defining a function is known as parameter\n",
        "def details(name,Age,Gender,education):\n",
        "  print(f'hello  iam {name}, and my age is {Age}, my gender is {Gender},I have done my masters in {education}')\n",
        "#call this function\n",
        "Name = input(\"enter your name: \")\n",
        "Age = int(input(\"enter your age: \"))\n",
        "Gender = input(\"enter your gender: \")\n",
        "education = input(\"enter your degree: \")\n",
        "#what is argument?\n",
        "#calling the function with certain values is known as arguments.\n",
        "details(Name,Age,Gender,education)"
      ],
      "metadata": {
        "colab": {
          "base_uri": "https://localhost:8080/"
        },
        "id": "jZSmzFs8fMeh",
        "outputId": "d9583c56-df4e-4d73-9b6b-139318fd06e9"
      },
      "execution_count": null,
      "outputs": [
        {
          "output_type": "stream",
          "name": "stdout",
          "text": [
            "enter your name: shahul\n",
            "enter your age: 28\n",
            "enter your gender: male\n",
            "enter your degree: ds\n",
            "hello  iam shahul, and my age is 28, my gender is male,I have done my masters in ds\n"
          ]
        }
      ]
    },
    {
      "cell_type": "code",
      "source": [
        "def details(name,Age,Gender,education):\n",
        "  print(f'hello  iam {name}, and my age is {Age}, my gender is {Gender},I have done my masters in {education}')\n",
        "#call this function\n",
        "details(\"zenvius\",1.5,\"none\",\"ds\")\n",
        "#Note:- It is important to give or to call function with same number of arguments when you have defined function with specific number of parameters.\n",
        "# call function--> No. of parameters == N0. 0f arguments"
      ],
      "metadata": {
        "colab": {
          "base_uri": "https://localhost:8080/"
        },
        "id": "b0_ZNjG9fMb5",
        "outputId": "d5bf7239-103c-45e3-ccde-3966ed68005e"
      },
      "execution_count": null,
      "outputs": [
        {
          "output_type": "stream",
          "name": "stdout",
          "text": [
            "hello  iam zenvius, and my age is 1.5, my gender is none,I have done my masters in ds\n"
          ]
        }
      ]
    },
    {
      "cell_type": "code",
      "source": [
        "#what do i do when i don't know how many parameters do i need to pass?\n",
        "def f2(**name):\n",
        "  for x in name:\n",
        "    print(f'hello, {x} !')\n",
        "  print(\"===============\")\n",
        "f2(Name = \"python\",last_name = \"programming lanbguage\")"
      ],
      "metadata": {
        "colab": {
          "base_uri": "https://localhost:8080/"
        },
        "id": "cxmb9Hw2fMZg",
        "outputId": "0dc159da-79ef-4c91-dce0-04c7d280eafc"
      },
      "execution_count": null,
      "outputs": [
        {
          "output_type": "stream",
          "name": "stdout",
          "text": [
            "hello, Name!\n",
            "hello, last_name!\n",
            "===============\n"
          ]
        }
      ]
    },
    {
      "cell_type": "code",
      "source": [
        "def f2(**name):\n",
        "  for x,y in name.items():\n",
        "    print(f'{x} = {y} ')\n",
        "  print(\"===============\")\n",
        "# f2(Name = \"python\",last_name = \"programming lanbguage\")\n",
        "f2(name = 'java',last_name = \"programming lanbguage\",Mobile=995907865)"
      ],
      "metadata": {
        "colab": {
          "base_uri": "https://localhost:8080/"
        },
        "id": "mcqBRIePfMW7",
        "outputId": "04300322-4585-4bd7-8be2-4cf1db5e34c8"
      },
      "execution_count": null,
      "outputs": [
        {
          "output_type": "stream",
          "name": "stdout",
          "text": [
            "name = java \n",
            "last_name = programming lanbguage \n",
            "Mobile = 995907865 \n",
            "===============\n"
          ]
        }
      ]
    },
    {
      "cell_type": "code",
      "source": [
        "print(10,20,30,40, sep=\"\\n\")"
      ],
      "metadata": {
        "colab": {
          "base_uri": "https://localhost:8080/"
        },
        "id": "ncf3YvErpWmv",
        "outputId": "6d91b9eb-94bf-437b-fea1-2d9a3a8f68ba"
      },
      "execution_count": null,
      "outputs": [
        {
          "output_type": "stream",
          "name": "stdout",
          "text": [
            "10\n",
            "20\n",
            "30\n",
            "40\n"
          ]
        }
      ]
    },
    {
      "cell_type": "code",
      "source": [
        "def f3(name,age,gender):\n",
        "  print(name,age,gender, sep=\"\\n\")\n",
        "f3(\"shahl\",28,\"M\")"
      ],
      "metadata": {
        "colab": {
          "base_uri": "https://localhost:8080/"
        },
        "id": "DHMDZUoVqffh",
        "outputId": "ef36b83f-232a-4114-c12f-18ace0f61f45"
      },
      "execution_count": null,
      "outputs": [
        {
          "output_type": "stream",
          "name": "stdout",
          "text": [
            "shahl\n",
            "28\n",
            "M\n"
          ]
        }
      ]
    },
    {
      "cell_type": "code",
      "source": [
        "#what do i have to do when you don't know how to deal with no of arguments?\n",
        "def f4(*n):\n",
        "  for x in n:\n",
        "     print(f'hello, {x}')\n",
        "f4(\"py\",\"J\",\"C++\")\n"
      ],
      "metadata": {
        "colab": {
          "base_uri": "https://localhost:8080/"
        },
        "id": "Z9EHD45Pq5aj",
        "outputId": "d89643a2-fe68-4c53-808a-6c0a0389791f"
      },
      "execution_count": null,
      "outputs": [
        {
          "output_type": "stream",
          "name": "stdout",
          "text": [
            "hello, py\n",
            "hello, J\n",
            "hello, C++\n"
          ]
        }
      ]
    },
    {
      "cell_type": "code",
      "source": [
        "def f4(*n):\n",
        "     print(n)\n",
        "f4(\"py\",\"J\",\"C++\")"
      ],
      "metadata": {
        "colab": {
          "base_uri": "https://localhost:8080/"
        },
        "id": "DCyIisgzsARL",
        "outputId": "c1a18bec-8468-4603-8668-611b316bef1c"
      },
      "execution_count": null,
      "outputs": [
        {
          "output_type": "stream",
          "name": "stdout",
          "text": [
            "('py', 'J', 'C++')\n"
          ]
        }
      ]
    },
    {
      "cell_type": "code",
      "source": [
        "def f4(**n):\n",
        "     print(n)\n",
        "f4(Name = \"Python\", last_name = \"language\", age= 34)"
      ],
      "metadata": {
        "colab": {
          "base_uri": "https://localhost:8080/"
        },
        "id": "7a6V1yLJsQrB",
        "outputId": "ce412238-33d4-4f0f-d0c2-44a207971406"
      },
      "execution_count": null,
      "outputs": [
        {
          "output_type": "stream",
          "name": "stdout",
          "text": [
            "{'Name': 'Python', 'last_name': 'language', 'age': 34}\n"
          ]
        }
      ]
    },
    {
      "cell_type": "code",
      "source": [
        "\"\"\"1. *--->when don't know how many arguments your giving use (*)--> arbitrary arguments(ARUGS),\n",
        "and default data type for \"Arugs\" is \"Tuple\". \"\"\"\n",
        "\"\"\"2.**--> when you don't know how many parameters your giving use (**)-->arbitrary keyword arguments(Kwarugs)\n",
        "and default datatype for \"Kwarugs\" is \"dictionary\".\"\"\""
      ],
      "metadata": {
        "id": "hEKznn3Fspch"
      },
      "execution_count": null,
      "outputs": []
    }
  ]
}